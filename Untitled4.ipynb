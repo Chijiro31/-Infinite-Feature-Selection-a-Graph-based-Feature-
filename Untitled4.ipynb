{
  "cells": [
    {
      "cell_type": "markdown",
      "metadata": {
        "id": "view-in-github",
        "colab_type": "text"
      },
      "source": [
        "<a href=\"https://colab.research.google.com/github/Chijiro31/-Infinite-Feature-Selection-a-Graph-based-Feature-/blob/main/Untitled4.ipynb\" target=\"_parent\"><img src=\"https://colab.research.google.com/assets/colab-badge.svg\" alt=\"Open In Colab\"/></a>"
      ]
    },
    {
      "cell_type": "markdown",
      "metadata": {
        "id": "9HlsMzRBjjEl"
      },
      "source": [
        "# **Infinite Feature Selection: A Graph-based Feature Filtering Approach**\n",
        "\n",
        "*  Giorgio Roffo, Simone Melzi, Member, IEEE, Umberto Castellani,\n",
        " Alessandro Vinciarelli, Member, IEEE and Marco Cristani, Member, IEEE\n"
      ]
    },
    {
      "cell_type": "markdown",
      "metadata": {
        "id": "daIWU0rcjjEm"
      },
      "source": [
        "**Improtar los Recursos**"
      ]
    },
    {
      "cell_type": "code",
      "execution_count": 1,
      "metadata": {
        "colab": {
          "base_uri": "https://localhost:8080/"
        },
        "outputId": "2b75420f-2a65-4048-b30e-732511bf2604",
        "collapsed": true,
        "id": "VKZxCH58jjEn"
      },
      "outputs": [
        {
          "output_type": "stream",
          "name": "stdout",
          "text": [
            "  Preparing metadata (setup.py) ... \u001b[?25l\u001b[?25hdone\n",
            "\u001b[2K   \u001b[90m━━━━━━━━━━━━━━━━━━━━━━━━━━━━━━━━━━━━━━━━\u001b[0m \u001b[32m66.3/66.3 kB\u001b[0m \u001b[31m1.1 MB/s\u001b[0m eta \u001b[36m0:00:00\u001b[0m\n",
            "\u001b[?25h  Building wheel for skrebate (setup.py) ... \u001b[?25l\u001b[?25hdone\n",
            "Cloning into 'scikit-feature'...\n",
            "remote: Enumerating objects: 1089, done.\u001b[K\n",
            "remote: Counting objects: 100% (132/132), done.\u001b[K\n",
            "remote: Compressing objects: 100% (74/74), done.\u001b[K\n",
            "remote: Total 1089 (delta 57), reused 132 (delta 57), pack-reused 957 (from 1)\u001b[K\n",
            "Receiving objects: 100% (1089/1089), 194.81 MiB | 21.15 MiB/s, done.\n",
            "Resolving deltas: 100% (643/643), done.\n",
            "Requirement already satisfied: numpy in /usr/local/lib/python3.11/dist-packages (2.0.2)\n",
            "Requirement already satisfied: pandas in /usr/local/lib/python3.11/dist-packages (2.2.2)\n",
            "Requirement already satisfied: scikit-learn in /usr/local/lib/python3.11/dist-packages (1.6.1)\n",
            "Requirement already satisfied: matplotlib in /usr/local/lib/python3.11/dist-packages (3.10.0)\n",
            "Requirement already satisfied: skrebate in /usr/local/lib/python3.11/dist-packages (0.62)\n",
            "Requirement already satisfied: python-dateutil>=2.8.2 in /usr/local/lib/python3.11/dist-packages (from pandas) (2.9.0.post0)\n",
            "Requirement already satisfied: pytz>=2020.1 in /usr/local/lib/python3.11/dist-packages (from pandas) (2025.2)\n",
            "Requirement already satisfied: tzdata>=2022.7 in /usr/local/lib/python3.11/dist-packages (from pandas) (2025.2)\n",
            "Requirement already satisfied: scipy>=1.6.0 in /usr/local/lib/python3.11/dist-packages (from scikit-learn) (1.15.3)\n",
            "Requirement already satisfied: joblib>=1.2.0 in /usr/local/lib/python3.11/dist-packages (from scikit-learn) (1.5.1)\n",
            "Requirement already satisfied: threadpoolctl>=3.1.0 in /usr/local/lib/python3.11/dist-packages (from scikit-learn) (3.6.0)\n",
            "Requirement already satisfied: contourpy>=1.0.1 in /usr/local/lib/python3.11/dist-packages (from matplotlib) (1.3.2)\n",
            "Requirement already satisfied: cycler>=0.10 in /usr/local/lib/python3.11/dist-packages (from matplotlib) (0.12.1)\n",
            "Requirement already satisfied: fonttools>=4.22.0 in /usr/local/lib/python3.11/dist-packages (from matplotlib) (4.58.1)\n",
            "Requirement already satisfied: kiwisolver>=1.3.1 in /usr/local/lib/python3.11/dist-packages (from matplotlib) (1.4.8)\n",
            "Requirement already satisfied: packaging>=20.0 in /usr/local/lib/python3.11/dist-packages (from matplotlib) (24.2)\n",
            "Requirement already satisfied: pillow>=8 in /usr/local/lib/python3.11/dist-packages (from matplotlib) (11.2.1)\n",
            "Requirement already satisfied: pyparsing>=2.3.1 in /usr/local/lib/python3.11/dist-packages (from matplotlib) (3.2.3)\n",
            "Requirement already satisfied: six>=1.5 in /usr/local/lib/python3.11/dist-packages (from python-dateutil>=2.8.2->pandas) (1.17.0)\n",
            "Requirement already satisfied: skfeature-chappers in /usr/local/lib/python3.11/dist-packages (1.1.0)\n",
            "Requirement already satisfied: scikit-learn in /usr/local/lib/python3.11/dist-packages (from skfeature-chappers) (1.6.1)\n",
            "Requirement already satisfied: pandas in /usr/local/lib/python3.11/dist-packages (from skfeature-chappers) (2.2.2)\n",
            "Requirement already satisfied: numpy in /usr/local/lib/python3.11/dist-packages (from skfeature-chappers) (2.0.2)\n",
            "Requirement already satisfied: python-dateutil>=2.8.2 in /usr/local/lib/python3.11/dist-packages (from pandas->skfeature-chappers) (2.9.0.post0)\n",
            "Requirement already satisfied: pytz>=2020.1 in /usr/local/lib/python3.11/dist-packages (from pandas->skfeature-chappers) (2025.2)\n",
            "Requirement already satisfied: tzdata>=2022.7 in /usr/local/lib/python3.11/dist-packages (from pandas->skfeature-chappers) (2025.2)\n",
            "Requirement already satisfied: scipy>=1.6.0 in /usr/local/lib/python3.11/dist-packages (from scikit-learn->skfeature-chappers) (1.15.3)\n",
            "Requirement already satisfied: joblib>=1.2.0 in /usr/local/lib/python3.11/dist-packages (from scikit-learn->skfeature-chappers) (1.5.1)\n",
            "Requirement already satisfied: threadpoolctl>=3.1.0 in /usr/local/lib/python3.11/dist-packages (from scikit-learn->skfeature-chappers) (3.6.0)\n",
            "Requirement already satisfied: six>=1.5 in /usr/local/lib/python3.11/dist-packages (from python-dateutil>=2.8.2->pandas->skfeature-chappers) (1.17.0)\n",
            "/content/scikit-feature\n",
            "Obtaining file:///content/scikit-feature\n",
            "  Preparing metadata (setup.py) ... \u001b[?25l\u001b[?25hdone\n",
            "Installing collected packages: skfeature\n",
            "  Running setup.py develop for skfeature\n",
            "Successfully installed skfeature-1.0.0\n",
            "/content\n"
          ]
        }
      ],
      "source": [
        "# Requisitos de instalación\n",
        "!pip install -q scikit-learn skfeature-chappers skrebate gdown PyIFS\n",
        "!git clone https://github.com/jundongl/scikit-feature.git\n",
        "!pip install numpy pandas scikit-learn matplotlib skrebate\n",
        "!pip install skfeature-chappers\n",
        "%cd scikit-feature\n",
        "!pip install -e .\n",
        "%cd ..\n",
        "\n",
        "# Solución al problema de PyIFS: importar scipy.stats\n",
        "!sed -i '1i import scipy.stats as stats' /usr/local/lib/python3.11/dist-packages/PyIFS/InfFS.py"
      ]
    },
    {
      "cell_type": "code",
      "execution_count": 2,
      "metadata": {
        "id": "DR8vIAobjjEo"
      },
      "outputs": [],
      "source": [
        "# Importaciones\n",
        "\n",
        "import numpy as np\n",
        "import pandas as pd\n",
        "import networkx as nx\n",
        "import matplotlib.pyplot as plt\n",
        "import scipy.stats as stats\n",
        "\n",
        "from sklearn.preprocessing import MinMaxScaler\n",
        "from sklearn.feature_selection import mutual_info_classif\n",
        "from skrebate import ReliefF\n",
        "from skfeature.function.similarity_based import lap_score\n",
        "from skfeature.utility import construct_W\n",
        "from skfeature.function.sparse_learning_based import MCFS\n",
        "from PyIFS import InfFS\n",
        "from numpy.linalg import eigvals, inv\n",
        "from sklearn.preprocessing import StandardScaler\n",
        "from sklearn.svm import SVC\n",
        "from sklearn.metrics import accuracy_score\n",
        "from sklearn.linear_model import LogisticRegression,  Lasso, LassoCV\n",
        "from skfeature.function.sparse_learning_based import UDFS\n",
        "from sklearn.feature_selection import SelectKBest, f_classif, RFE, SelectFromModel\n",
        "from sklearn.ensemble import RandomForestClassifier\n",
        "from skrebate import ReliefF as skReliefF\n",
        "from sklearn.decomposition import PCA\n"
      ]
    },
    {
      "cell_type": "markdown",
      "metadata": {
        "id": "BUQW-t5tjjEo"
      },
      "source": [
        "**Configuración de visualización**"
      ]
    },
    {
      "cell_type": "code",
      "execution_count": 3,
      "metadata": {
        "id": "0uEwfRfpjjEo"
      },
      "outputs": [],
      "source": [
        "plt.style.use('ggplot')\n",
        "%matplotlib inline"
      ]
    },
    {
      "cell_type": "markdown",
      "metadata": {
        "id": "5dwssudvjjEp"
      },
      "source": [
        "**Cargar el archivo CSV**"
      ]
    },
    {
      "cell_type": "code",
      "execution_count": 4,
      "metadata": {
        "colab": {
          "base_uri": "https://localhost:8080/",
          "height": 177
        },
        "outputId": "dd97102f-4a48-4a2b-eb9f-69d0a122914b",
        "collapsed": true,
        "id": "H55ZtopOjjEp"
      },
      "outputs": [
        {
          "output_type": "display_data",
          "data": {
            "text/plain": [
              "<IPython.core.display.HTML object>"
            ],
            "text/html": [
              "\n",
              "     <input type=\"file\" id=\"files-24a9886b-c345-41fc-a276-c6ecf2ae7045\" name=\"files[]\" multiple disabled\n",
              "        style=\"border:none\" />\n",
              "     <output id=\"result-24a9886b-c345-41fc-a276-c6ecf2ae7045\">\n",
              "      Upload widget is only available when the cell has been executed in the\n",
              "      current browser session. Please rerun this cell to enable.\n",
              "      </output>\n",
              "      <script>// Copyright 2017 Google LLC\n",
              "//\n",
              "// Licensed under the Apache License, Version 2.0 (the \"License\");\n",
              "// you may not use this file except in compliance with the License.\n",
              "// You may obtain a copy of the License at\n",
              "//\n",
              "//      http://www.apache.org/licenses/LICENSE-2.0\n",
              "//\n",
              "// Unless required by applicable law or agreed to in writing, software\n",
              "// distributed under the License is distributed on an \"AS IS\" BASIS,\n",
              "// WITHOUT WARRANTIES OR CONDITIONS OF ANY KIND, either express or implied.\n",
              "// See the License for the specific language governing permissions and\n",
              "// limitations under the License.\n",
              "\n",
              "/**\n",
              " * @fileoverview Helpers for google.colab Python module.\n",
              " */\n",
              "(function(scope) {\n",
              "function span(text, styleAttributes = {}) {\n",
              "  const element = document.createElement('span');\n",
              "  element.textContent = text;\n",
              "  for (const key of Object.keys(styleAttributes)) {\n",
              "    element.style[key] = styleAttributes[key];\n",
              "  }\n",
              "  return element;\n",
              "}\n",
              "\n",
              "// Max number of bytes which will be uploaded at a time.\n",
              "const MAX_PAYLOAD_SIZE = 100 * 1024;\n",
              "\n",
              "function _uploadFiles(inputId, outputId) {\n",
              "  const steps = uploadFilesStep(inputId, outputId);\n",
              "  const outputElement = document.getElementById(outputId);\n",
              "  // Cache steps on the outputElement to make it available for the next call\n",
              "  // to uploadFilesContinue from Python.\n",
              "  outputElement.steps = steps;\n",
              "\n",
              "  return _uploadFilesContinue(outputId);\n",
              "}\n",
              "\n",
              "// This is roughly an async generator (not supported in the browser yet),\n",
              "// where there are multiple asynchronous steps and the Python side is going\n",
              "// to poll for completion of each step.\n",
              "// This uses a Promise to block the python side on completion of each step,\n",
              "// then passes the result of the previous step as the input to the next step.\n",
              "function _uploadFilesContinue(outputId) {\n",
              "  const outputElement = document.getElementById(outputId);\n",
              "  const steps = outputElement.steps;\n",
              "\n",
              "  const next = steps.next(outputElement.lastPromiseValue);\n",
              "  return Promise.resolve(next.value.promise).then((value) => {\n",
              "    // Cache the last promise value to make it available to the next\n",
              "    // step of the generator.\n",
              "    outputElement.lastPromiseValue = value;\n",
              "    return next.value.response;\n",
              "  });\n",
              "}\n",
              "\n",
              "/**\n",
              " * Generator function which is called between each async step of the upload\n",
              " * process.\n",
              " * @param {string} inputId Element ID of the input file picker element.\n",
              " * @param {string} outputId Element ID of the output display.\n",
              " * @return {!Iterable<!Object>} Iterable of next steps.\n",
              " */\n",
              "function* uploadFilesStep(inputId, outputId) {\n",
              "  const inputElement = document.getElementById(inputId);\n",
              "  inputElement.disabled = false;\n",
              "\n",
              "  const outputElement = document.getElementById(outputId);\n",
              "  outputElement.innerHTML = '';\n",
              "\n",
              "  const pickedPromise = new Promise((resolve) => {\n",
              "    inputElement.addEventListener('change', (e) => {\n",
              "      resolve(e.target.files);\n",
              "    });\n",
              "  });\n",
              "\n",
              "  const cancel = document.createElement('button');\n",
              "  inputElement.parentElement.appendChild(cancel);\n",
              "  cancel.textContent = 'Cancel upload';\n",
              "  const cancelPromise = new Promise((resolve) => {\n",
              "    cancel.onclick = () => {\n",
              "      resolve(null);\n",
              "    };\n",
              "  });\n",
              "\n",
              "  // Wait for the user to pick the files.\n",
              "  const files = yield {\n",
              "    promise: Promise.race([pickedPromise, cancelPromise]),\n",
              "    response: {\n",
              "      action: 'starting',\n",
              "    }\n",
              "  };\n",
              "\n",
              "  cancel.remove();\n",
              "\n",
              "  // Disable the input element since further picks are not allowed.\n",
              "  inputElement.disabled = true;\n",
              "\n",
              "  if (!files) {\n",
              "    return {\n",
              "      response: {\n",
              "        action: 'complete',\n",
              "      }\n",
              "    };\n",
              "  }\n",
              "\n",
              "  for (const file of files) {\n",
              "    const li = document.createElement('li');\n",
              "    li.append(span(file.name, {fontWeight: 'bold'}));\n",
              "    li.append(span(\n",
              "        `(${file.type || 'n/a'}) - ${file.size} bytes, ` +\n",
              "        `last modified: ${\n",
              "            file.lastModifiedDate ? file.lastModifiedDate.toLocaleDateString() :\n",
              "                                    'n/a'} - `));\n",
              "    const percent = span('0% done');\n",
              "    li.appendChild(percent);\n",
              "\n",
              "    outputElement.appendChild(li);\n",
              "\n",
              "    const fileDataPromise = new Promise((resolve) => {\n",
              "      const reader = new FileReader();\n",
              "      reader.onload = (e) => {\n",
              "        resolve(e.target.result);\n",
              "      };\n",
              "      reader.readAsArrayBuffer(file);\n",
              "    });\n",
              "    // Wait for the data to be ready.\n",
              "    let fileData = yield {\n",
              "      promise: fileDataPromise,\n",
              "      response: {\n",
              "        action: 'continue',\n",
              "      }\n",
              "    };\n",
              "\n",
              "    // Use a chunked sending to avoid message size limits. See b/62115660.\n",
              "    let position = 0;\n",
              "    do {\n",
              "      const length = Math.min(fileData.byteLength - position, MAX_PAYLOAD_SIZE);\n",
              "      const chunk = new Uint8Array(fileData, position, length);\n",
              "      position += length;\n",
              "\n",
              "      const base64 = btoa(String.fromCharCode.apply(null, chunk));\n",
              "      yield {\n",
              "        response: {\n",
              "          action: 'append',\n",
              "          file: file.name,\n",
              "          data: base64,\n",
              "        },\n",
              "      };\n",
              "\n",
              "      let percentDone = fileData.byteLength === 0 ?\n",
              "          100 :\n",
              "          Math.round((position / fileData.byteLength) * 100);\n",
              "      percent.textContent = `${percentDone}% done`;\n",
              "\n",
              "    } while (position < fileData.byteLength);\n",
              "  }\n",
              "\n",
              "  // All done.\n",
              "  yield {\n",
              "    response: {\n",
              "      action: 'complete',\n",
              "    }\n",
              "  };\n",
              "}\n",
              "\n",
              "scope.google = scope.google || {};\n",
              "scope.google.colab = scope.google.colab || {};\n",
              "scope.google.colab._files = {\n",
              "  _uploadFiles,\n",
              "  _uploadFilesContinue,\n",
              "};\n",
              "})(self);\n",
              "</script> "
            ]
          },
          "metadata": {}
        },
        {
          "output_type": "stream",
          "name": "stdout",
          "text": [
            "Saving X_train.txt to X_train.txt\n",
            "Saving y_train.txt to y_train.txt\n",
            "Saving X_test.txt to X_test.txt\n",
            "Saving y_test.txt to y_test.txt\n"
          ]
        }
      ],
      "source": [
        "from google.colab import files\n",
        "uploaded = files.upload()"
      ]
    },
    {
      "cell_type": "markdown",
      "metadata": {
        "id": "O3tnjzStjjEp"
      },
      "source": [
        "**Leer los Datos**"
      ]
    },
    {
      "cell_type": "code",
      "execution_count": 5,
      "metadata": {
        "id": "VVS-nq75jjEq"
      },
      "outputs": [],
      "source": [
        "# Cargar archivos\n",
        "X_train = np.loadtxt(\"X_train.txt\")\n",
        "y_train = np.loadtxt(\"y_train.txt\")\n",
        "X_test = np.loadtxt(\"X_test.txt\")\n",
        "y_test = np.loadtxt(\"y_test.txt\")\n",
        "\n",
        "# Combinar todo\n",
        "X = np.vstack([X_train, X_test])\n",
        "y = np.hstack([y_train, y_test])\n",
        "\n",
        "# Escalar\n",
        "scaler = MinMaxScaler()\n",
        "X_scaled = scaler.fit_transform(X)\n",
        "\n",
        "# Methods dictionary: method name -> function\n",
        "methods = {}\n",
        "rankings = {}\n",
        "results = {}\n",
        "\n"
      ]
    },
    {
      "cell_type": "markdown",
      "source": [
        "# **1.Modelos y funciones de evaluación**"
      ],
      "metadata": {
        "id": "ymLDkARwmOtN"
      }
    },
    {
      "cell_type": "code",
      "source": [
        "# Modelo base para evaluación\n",
        "base_model = RandomForestClassifier(n_estimators=100, random_state=42)\n",
        "\n",
        "# Función de evaluación\n",
        "def evaluate_model(model, X_train, y_train, X_test, y_test):\n",
        "    model.fit(X_train, y_train)\n",
        "    y_pred = model.predict(X_test)\n",
        "    return accuracy_score(y_test, y_pred)\n"
      ],
      "metadata": {
        "id": "Zmd_d_NtmOUV"
      },
      "execution_count": 6,
      "outputs": []
    },
    {
      "cell_type": "markdown",
      "source": [
        "# **2.Métodos de selección de características**"
      ],
      "metadata": {
        "id": "SuFp37aSmcQE"
      }
    },
    {
      "cell_type": "code",
      "source": [
        "def apply_select_k_best(X_train, y_train, k=100):\n",
        "    selector = SelectKBest(score_func=f_classif, k=k)\n",
        "    selector.fit(X_train, y_train)\n",
        "    return selector\n",
        "\n",
        "def apply_rfe(X_train, y_train, k=100):\n",
        "    estimator = LogisticRegression(max_iter=1000)\n",
        "    selector = RFE(estimator, n_features_to_select=k, step=0.1)\n",
        "    selector.fit(X_train, y_train)\n",
        "    return selector\n",
        "\n",
        "def apply_lasso(X_train, y_train):\n",
        "    selector = SelectFromModel(Lasso(alpha=0.01, max_iter=5000)).fit(X_train, y_train)\n",
        "    return selector\n",
        "\n",
        "def apply_reliefF(X_train, y_train):\n",
        "    selector = ReliefF(n_features_to_select=100)\n",
        "    selector.fit(X_train, y_train)\n",
        "    return selector\n"
      ],
      "metadata": {
        "id": "jOletYb0mg0d"
      },
      "execution_count": 7,
      "outputs": []
    },
    {
      "cell_type": "markdown",
      "source": [
        "**Aplicar los métodos y evaluar**"
      ],
      "metadata": {
        "id": "flqWbihtmyP0"
      }
    },
    {
      "cell_type": "code",
      "source": [
        "from sklearn.base import clone\n",
        "methods = {\n",
        "    \"SelectKBest\": apply_select_k_best,\n",
        "    \"RFE\": apply_rfe,\n",
        "    \"Lasso\": apply_lasso,\n",
        "    \"ReliefF\": apply_reliefF\n",
        "}\n",
        "\n",
        "results = {}\n",
        "\n",
        "for name, func in methods.items():\n",
        "    print(f\"Evaluando {name}...\")\n",
        "    selector = func(X_train, y_train)\n",
        "    X_train_sel = selector.transform(X_train)\n",
        "    X_test_sel = selector.transform(X_test)\n",
        "    acc = evaluate_model(clone(base_model), X_train_sel, y_train, X_test_sel, y_test)\n",
        "    results[name] = acc\n",
        "\n",
        "# Mostrar resultados ordenados\n",
        "results = dict(sorted(results.items(), key=lambda item: item[1], reverse=True))\n",
        "for method, acc in results.items():\n",
        "    print(f\"{method}: {acc:.4f}\")"
      ],
      "metadata": {
        "id": "diChKMrIznPx"
      },
      "execution_count": null,
      "outputs": []
    },
    {
      "cell_type": "markdown",
      "metadata": {
        "id": "5_Yv8VjrjjEq"
      },
      "source": [
        "# **3. Metodos de Filtrado**"
      ]
    },
    {
      "cell_type": "markdown",
      "metadata": {
        "id": "eJ5RNHJsjjEr"
      },
      "source": [
        "**Laplacian Score (LS)**"
      ]
    },
    {
      "cell_type": "code",
      "execution_count": null,
      "metadata": {
        "collapsed": true,
        "id": "Nd8njXF8jjEr"
      },
      "outputs": [],
      "source": [
        "W = construct_W.construct_W(X_scaled)\n",
        "scores = lap_score.lap_score(X_scaled, W=W)\n",
        "lap_ranking = np.argsort(scores)[::-1]\n",
        "rankings['Laplacian Score'] = lap_ranking\n",
        "\n",
        "print(\"Top 20 features (Laplacian Score):\", lap_ranking[:20])"
      ]
    },
    {
      "cell_type": "markdown",
      "metadata": {
        "id": "1UtF3sgzjjEs"
      },
      "source": [
        "**Multi-Cluster Feature Selection (MCFS)**"
      ]
    },
    {
      "cell_type": "code",
      "execution_count": null,
      "metadata": {
        "collapsed": true,
        "id": "mgQrSErTjjEs"
      },
      "outputs": [],
      "source": [
        "weight = MCFS.mcfs(X_scaled, n_selected_features=20, n_clusters=6)\n",
        "mcfs_ranking = np.argsort(np.abs(weight))[::-1]\n",
        "rankings['MCFS'] = mcfs_ranking\n",
        "\n",
        "print(\"Top 20 features (Multi-Cluster Feature Selection):\", lap_ranking[:20])"
      ]
    },
    {
      "cell_type": "markdown",
      "metadata": {
        "id": "0z2Crj-EjjEt"
      },
      "source": [
        "**Relief-F**"
      ]
    },
    {
      "cell_type": "code",
      "execution_count": null,
      "metadata": {
        "id": "_vwQQgcrjjEt"
      },
      "outputs": [],
      "source": [
        "def relief_f_ranking(X, y):\n",
        "    fs = ReliefF(n_features_to_select=X.shape[1])\n",
        "    fs.fit(X, y)\n",
        "    scores = fs.feature_importances_\n",
        "    ranked = np.argsort(-scores)\n",
        "    return ranked, scores\n",
        "\n",
        "r_relief, _ = relief_f_ranking(X_scaled, y)\n",
        "rankings['ReliefF'] = r_relief\n",
        "print(\"Top 20 features (ReliefF):\", r_relief[:20])"
      ]
    },
    {
      "cell_type": "markdown",
      "metadata": {
        "id": "OXLfY2YXjjEu"
      },
      "source": [
        "**Mutual Information (MI)**"
      ]
    },
    {
      "cell_type": "code",
      "execution_count": null,
      "metadata": {
        "id": "fVr_fkMHjjEu"
      },
      "outputs": [],
      "source": [
        "mi_scores = mutual_info_classif(X_scaled, y, random_state=42)\n",
        "mi_ranking = np.argsort(mi_scores)[::-1]\n",
        "rankings['Mutual Information'] = mi_ranking\n",
        "\n",
        "print(\"Top 20 features (MI):\", mi_ranking[:20])"
      ]
    },
    {
      "cell_type": "markdown",
      "source": [
        "# ***Infinite Feature Selection (unsupervised)***"
      ],
      "metadata": {
        "id": "iHnNQWadx0vk"
      }
    },
    {
      "cell_type": "code",
      "execution_count": null,
      "metadata": {
        "id": "FIzNmhDPjjEy"
      },
      "outputs": [],
      "source": [
        "def inf_fs(X, alpha=None):\n",
        "    corr = np.abs(np.corrcoef(X.T))\n",
        "    np.fill_diagonal(corr, 0)\n",
        "    max_eig = max(np.real(eigvals(corr)))\n",
        "    if alpha is None:\n",
        "        alpha = 0.9 / max_eig\n",
        "    I = np.eye(corr.shape[0])\n",
        "    S = inv(I - alpha * corr) - I\n",
        "    feature_scores = np.sum(S, axis=1)\n",
        "    ranked_features = np.argsort(-feature_scores)\n",
        "    return ranked_features, feature_scores\n",
        "\n",
        "ranked_features_inf_fs, scores_inf_fs = inf_fs(X_train)\n",
        "rankings['Inf-FS(u)'] = ranked_features_inf_fs"
      ]
    },
    {
      "cell_type": "code",
      "source": [
        "# Evaluar con SVM\n",
        "accuracies = []\n",
        "features_range = list(range(10, 201, 10))\n",
        "\n",
        "for k in features_range:\n",
        "    selected = ranked_features[:k]\n",
        "    clf = SVC(kernel='linear')\n",
        "    clf.fit(X_train[:, selected], y_train)\n",
        "    y_pred = clf.predict(X_test[:, selected])\n",
        "    acc = accuracy_score(y_test, y_pred)\n",
        "    accuracies.append(acc)"
      ],
      "metadata": {
        "id": "64IPq9NajjEy"
      },
      "execution_count": null,
      "outputs": []
    },
    {
      "cell_type": "code",
      "source": [
        "# Graficar\n",
        "plt.plot(features_range, accuracies, marker='o')\n",
        "plt.title(\"Inf-FS completo (no supervisado) en HAR Dataset\")\n",
        "plt.xlabel(\"Número de características seleccionadas\")\n",
        "plt.ylabel(\"Precisión SVM\")\n",
        "plt.grid(True)\n",
        "plt.show()"
      ],
      "metadata": {
        "id": "aNdpNADrjjEz"
      },
      "execution_count": null,
      "outputs": []
    },
    {
      "cell_type": "markdown",
      "source": [
        "# ***Inf-FSs (Supervisado)***"
      ],
      "metadata": {
        "id": "wpxWLPOLjjEz"
      }
    },
    {
      "cell_type": "code",
      "source": [
        "def inf_fs_supervised(X, y, alpha=None):\n",
        "    mi = mutual_info_classif(X, y)\n",
        "    corr = np.corrcoef(X.T)\n",
        "    np.fill_diagonal(corr, 0)\n",
        "    A = np.abs(corr) * np.sqrt(np.outer(mi, mi))\n",
        "    max_eig = max(np.real(eigvals(A)))\n",
        "    if alpha is None:\n",
        "        alpha = 0.9 / max_eig\n",
        "    I = np.eye(A.shape[0])\n",
        "    S = inv(I - alpha * A) - I\n",
        "    scores = np.sum(S, axis=1)\n",
        "    ranked = np.argsort(-scores)\n",
        "    return ranked, scores"
      ],
      "metadata": {
        "id": "x7_s5nh1jjE0"
      },
      "execution_count": null,
      "outputs": []
    },
    {
      "cell_type": "markdown",
      "source": [
        "**RFE con SVM**"
      ],
      "metadata": {
        "id": "emSKnqZojjE0"
      }
    },
    {
      "cell_type": "code",
      "source": [
        "from skrebate import ReliefF\n",
        "\n",
        "def rfe_ranking(X, y):\n",
        "    estimator = SVC(kernel=\"linear\", C=1)\n",
        "    selector = RFE(estimator, n_features_to_select=1, step=1)\n",
        "    selector.fit(X, y)\n",
        "    ranked = np.argsort(-selector.ranking_)\n",
        "    scores = 1 / (selector.ranking_ + 1e-12)\n",
        "    return ranked, scores"
      ],
      "metadata": {
        "id": "JvhSn2-ajjE0"
      },
      "execution_count": null,
      "outputs": []
    },
    {
      "cell_type": "markdown",
      "metadata": {
        "id": "bm5vEAyxjjEw"
      },
      "source": [
        "**Fisher Score**"
      ]
    },
    {
      "cell_type": "code",
      "execution_count": null,
      "metadata": {
        "id": "6A9iyAe1jjEx"
      },
      "outputs": [],
      "source": [
        "def fisher_score(X, y):\n",
        "    n_samples, n_features = X.shape\n",
        "    unique_classes = np.unique(y)\n",
        "    mean_overall = np.mean(X, axis=0)\n",
        "    scores = np.zeros(n_features)\n",
        "    for c in unique_classes:\n",
        "        X_c = X[y == c]\n",
        "        n_c = X_c.shape[0]\n",
        "        mean_c = np.mean(X_c, axis=0)\n",
        "        var_c = np.var(X_c, axis=0) + 1e-12\n",
        "        scores += (n_c * (mean_c - mean_overall) ** 2) / var_c\n",
        "    return scores\n",
        "\n",
        "fs = fisher_score(X_scaled, y)\n",
        "ranking_fs = np.argsort(fs)[::-1]\n",
        "rankings['Fisher Score'] = ranking_fs\n",
        "print(\"Top 20 features (Fisher Score):\", ranking_fs[:20])"
      ]
    },
    {
      "cell_type": "markdown",
      "source": [
        "**LASSO (Logistic Regression con L1)**"
      ],
      "metadata": {
        "id": "J-zbf1ZCjjE2"
      }
    },
    {
      "cell_type": "code",
      "source": [
        "def lasso_ranking(X, y):\n",
        "    model = LogisticRegression(penalty='l1', solver='liblinear', C=1.0, max_iter=500)\n",
        "    model.fit(X, y)\n",
        "    scores = np.abs(model.coef_).mean(axis=0)\n",
        "    ranked = np.argsort(-scores)\n",
        "    return ranked, scores"
      ],
      "metadata": {
        "id": "QoPW52lqjjE2"
      },
      "execution_count": null,
      "outputs": []
    },
    {
      "cell_type": "markdown",
      "source": [
        "**Comparación de métodos supervisados de filtrado**"
      ],
      "metadata": {
        "id": "qGN72CCpjjE3"
      }
    },
    {
      "cell_type": "code",
      "source": [
        "methods = {\n",
        "    \"Inf-FS(s)\": inf_fs_supervised,\n",
        "    \"ReliefF\": relief_f_ranking,\n",
        "    \"Fisher\": lambda X, y: (np.argsort(-fisher_score(X, y)), None),\n",
        "    \"LASSO\": lasso_ranking,\n",
        "    \"RFE\": rfe_ranking\n",
        "}\n",
        "\n",
        "results = {}\n",
        "for name, func in methods.items():\n",
        "    ranked, _ = func(X_train, y_train)\n",
        "    accs = []\n",
        "    for k in features_range:\n",
        "        top_k = ranked[:k]\n",
        "        clf = SVC(kernel='linear')\n",
        "        clf.fit(X_train[:, top_k], y_train)\n",
        "        y_pred = clf.predict(X_test[:, top_k])\n",
        "        accs.append(accuracy_score(y_test, y_pred))\n",
        "    results[name] = accs\n",
        "\n",
        "plt.figure(figsize=(10, 6))\n",
        "for name, accs in results.items():\n",
        "    plt.plot(features_range, accs, label=name)\n",
        "plt.title(\"Comparación de métodos supervisados de selección de características\")\n",
        "plt.xlabel(\"Número de características seleccionadas\")\n",
        "plt.ylabel(\"Precisión SVM\")\n",
        "plt.legend()\n",
        "plt.grid(True)\n",
        "plt.show()"
      ],
      "metadata": {
        "id": "WN7CHMrujjE3"
      },
      "execution_count": null,
      "outputs": []
    },
    {
      "cell_type": "markdown",
      "metadata": {
        "id": "Vy6bhV5sjjE4"
      },
      "source": [
        "# **4.Metodos de Envoltura**"
      ]
    },
    {
      "cell_type": "markdown",
      "metadata": {
        "id": "hvDHPC_3jjE4"
      },
      "source": [
        "**No Supervisado**\n",
        "\n",
        "1.   DGUFS\n",
        "2.   FSASL\n",
        "3. UFSOL\n",
        "\n",
        "**Supervisado**\n",
        "\n",
        "1.   RFE\n",
        "2.   SVM\n"
      ]
    },
    {
      "cell_type": "markdown",
      "source": [
        "**DGUFS**"
      ],
      "metadata": {
        "id": "JtKUWNyer-Bu"
      }
    },
    {
      "cell_type": "code",
      "execution_count": 1,
      "metadata": {
        "colab": {
          "base_uri": "https://localhost:8080/",
          "height": 211
        },
        "outputId": "99a7cd66-bb32-405a-ebba-9851e5de7ee1",
        "id": "S3TTmGb0jjE4"
      },
      "outputs": [
        {
          "output_type": "error",
          "ename": "NameError",
          "evalue": "name 'np' is not defined",
          "traceback": [
            "\u001b[0;31m---------------------------------------------------------------------------\u001b[0m",
            "\u001b[0;31mNameError\u001b[0m                                 Traceback (most recent call last)",
            "\u001b[0;32m<ipython-input-1-3527607604>\u001b[0m in \u001b[0;36m<cell line: 0>\u001b[0;34m()\u001b[0m\n\u001b[1;32m     21\u001b[0m     \u001b[0;32mreturn\u001b[0m \u001b[0mselected\u001b[0m\u001b[0;34m,\u001b[0m \u001b[0mfeature_scores\u001b[0m\u001b[0;34m\u001b[0m\u001b[0;34m\u001b[0m\u001b[0m\n\u001b[1;32m     22\u001b[0m \u001b[0;34m\u001b[0m\u001b[0m\n\u001b[0;32m---> 23\u001b[0;31m \u001b[0mn_clusters\u001b[0m \u001b[0;34m=\u001b[0m \u001b[0mlen\u001b[0m\u001b[0;34m(\u001b[0m\u001b[0mnp\u001b[0m\u001b[0;34m.\u001b[0m\u001b[0munique\u001b[0m\u001b[0;34m(\u001b[0m\u001b[0my\u001b[0m\u001b[0;34m)\u001b[0m\u001b[0;34m)\u001b[0m\u001b[0;34m\u001b[0m\u001b[0;34m\u001b[0m\u001b[0m\n\u001b[0m\u001b[1;32m     24\u001b[0m \u001b[0mn_features\u001b[0m \u001b[0;34m=\u001b[0m \u001b[0;36m20\u001b[0m\u001b[0;34m\u001b[0m\u001b[0;34m\u001b[0m\u001b[0m\n\u001b[1;32m     25\u001b[0m \u001b[0mselected_dgufs\u001b[0m\u001b[0;34m,\u001b[0m \u001b[0mscores_dgufs\u001b[0m \u001b[0;34m=\u001b[0m \u001b[0mdgufs\u001b[0m\u001b[0;34m(\u001b[0m\u001b[0mX_scaled\u001b[0m\u001b[0;34m,\u001b[0m \u001b[0mn_clusters\u001b[0m\u001b[0;34m,\u001b[0m \u001b[0mn_features\u001b[0m\u001b[0;34m,\u001b[0m \u001b[0mverbose\u001b[0m\u001b[0;34m=\u001b[0m\u001b[0;32mTrue\u001b[0m\u001b[0;34m)\u001b[0m\u001b[0;34m\u001b[0m\u001b[0;34m\u001b[0m\u001b[0m\n",
            "\u001b[0;31mNameError\u001b[0m: name 'np' is not defined"
          ]
        }
      ],
      "source": [
        "def dgufs(X, n_clusters, n_features, max_iter=50, alpha=1.0, beta=1.0, verbose=False):\n",
        "    n_samples, d = X.shape\n",
        "    W = np.random.rand(d, n_clusters)\n",
        "    W = normalize(W, axis=0)\n",
        "    kmeans = KMeans(n_clusters=n_clusters, n_init=10, random_state=42)\n",
        "    F = kmeans.fit_transform(X)\n",
        "\n",
        "    for i in range(max_iter):\n",
        "        A = X @ W\n",
        "        kmeans = KMeans(n_clusters=n_clusters, n_init=10, random_state=42)\n",
        "        F = kmeans.fit_transform(A)\n",
        "        numerator = X.T @ F\n",
        "        denominator = W @ (F.T @ F) + alpha * W + beta * np.sign(W)\n",
        "        W = W * (numerator / (denominator + 1e-10))\n",
        "        W = normalize(W, axis=0)\n",
        "        if verbose and i % 10 == 0:\n",
        "            print(f\"Iter {i}: residual norm = {norm(X @ W - F):.4f}\")\n",
        "\n",
        "    feature_scores = np.linalg.norm(W, axis=1)\n",
        "    selected = np.argsort(-feature_scores)[:n_features]\n",
        "    return selected, feature_scores\n",
        "\n",
        "n_clusters = len(np.unique(y))\n",
        "n_features = 20\n",
        "selected_dgufs, scores_dgufs = dgufs(X_scaled, n_clusters, n_features, verbose=True)\n",
        "rankings['DGUFS'] = selected_dgufs\n",
        "print(\"Top 20 features (DGUFS):\", selected_dgufs[:20])"
      ]
    },
    {
      "cell_type": "markdown",
      "source": [
        "**FSASL**"
      ],
      "metadata": {
        "id": "IcW0aYsmsQ1h"
      }
    },
    {
      "cell_type": "code",
      "execution_count": null,
      "metadata": {
        "id": "e7bY350_jjE5"
      },
      "outputs": [],
      "source": [
        "from skfeature.function.sparse_learning_based import fsasl\n",
        "\n",
        "w_fsasl = fsasl.fsasl(X_scaled, n_selected_features=20)\n",
        "fsasl_scores = np.sum(np.abs(w_fsasl), axis=1)\n",
        "fsasl_ranking = np.argsort(fsasl_scores)[::-1]\n",
        "rankings['FSASL'] = fsasl_ranking\n",
        "print(\"Top 20 features (FSASL):\", fsasl_ranking[:20])"
      ]
    },
    {
      "cell_type": "markdown",
      "source": [
        "**UFSOL**"
      ],
      "metadata": {
        "id": "PsCjFsAPsc2r"
      }
    },
    {
      "cell_type": "code",
      "execution_count": null,
      "metadata": {
        "id": "w_elTJJcjjE5"
      },
      "outputs": [],
      "source": [
        "from sklearn.metrics.pairwise import rbf_kernel\n",
        "from scipy.sparse import csgraph\n",
        "\n",
        "def ufsol(X, n_features=20, sigma=1.0):\n",
        "    W = rbf_kernel(X, gamma=1 / (2 * sigma ** 2))\n",
        "    W = normalize(W, norm='l1', axis=1)\n",
        "    L = csgraph.laplacian(W, normed=True)\n",
        "    scores = np.array([X[:, i].T @ L @ X[:, i] for i in range(X.shape[1])])\n",
        "    ranking = np.argsort(scores)  # menor es mejor\n",
        "    return ranking\n",
        "\n",
        "ufsol_ranking = ufsol(X_scaled, n_features=20)\n",
        "rankings['UFSOL'] = ufsol_ranking\n",
        "print(\"Top 20 features (UFSOL):\", ufsol_ranking[:20])\n"
      ]
    },
    {
      "cell_type": "markdown",
      "source": [
        "**Supervisado**"
      ],
      "metadata": {
        "id": "J1ypNK0_tdYP"
      }
    },
    {
      "cell_type": "markdown",
      "source": [
        "**RFE**"
      ],
      "metadata": {
        "id": "Mxsxj2VitY4Q"
      }
    },
    {
      "cell_type": "code",
      "execution_count": null,
      "metadata": {
        "id": "_jG6-2WIjjE6"
      },
      "outputs": [],
      "source": [
        "from sklearn.feature_selection import RFE\n",
        "from sklearn.svm import SVC\n",
        "\n",
        "svc = SVC(kernel='linear')\n",
        "rfe = RFE(svc, n_features_to_select=20).fit(X_scaled, y)\n",
        "rankings['RFE'] = np.argsort(rfe.ranking_)\n",
        "\n"
      ]
    },
    {
      "cell_type": "markdown",
      "source": [
        "**SVM**"
      ],
      "metadata": {
        "id": "KUyVZ6vNtkXK"
      }
    },
    {
      "cell_type": "code",
      "execution_count": null,
      "metadata": {
        "id": "linaO5PmjjE6"
      },
      "outputs": [],
      "source": [
        "from sklearn.svm import LinearSVC\n",
        "\n",
        "# Entrena SVM lineal con L1 o L2\n",
        "svm = LinearSVC(C=0.01, penalty=\"l1\", dual=False, max_iter=5000)\n",
        "svm.fit(X_scaled, y)\n",
        "\n",
        "# Ranking según pesos\n",
        "fsv_scores = np.abs(svm.coef_).sum(axis=0)\n",
        "fsv_ranking = np.argsort(fsv_scores)[::-1]\n",
        "\n",
        "# Agregar a rankings\n",
        "rankings['FSV'] = fsv_ranking\n"
      ]
    },
    {
      "cell_type": "markdown",
      "metadata": {
        "id": "h-96sgOSjjE7"
      },
      "source": [
        "# **3. Metodos Integrados**"
      ]
    },
    {
      "cell_type": "markdown",
      "source": [
        "**No Supervisado**\n",
        "\n",
        "1.   UDFS"
      ],
      "metadata": {
        "id": "UjieueBlj_tZ"
      }
    },
    {
      "cell_type": "code",
      "execution_count": null,
      "metadata": {
        "id": "YaXNucJ_jjE7"
      },
      "outputs": [],
      "source": [
        "def udfs_ranking(X, n_selected_features=20, gamma=1.0):\n",
        "    weights = UDFS.udfs(X, gamma=gamma, n_selected_features=n_selected_features)\n",
        "    scores = np.sum(np.abs(weights), axis=1)\n",
        "    ranking = np.argsort(scores)[::-1]\n",
        "    return ranking, scores\n",
        "\n",
        "udfs_ranked, _ = udfs_ranking(X_scaled)\n",
        "rankings['UDFS'] = udfs_ranked\n",
        "print(\"Top 20 features (UDFS):\", udfs_ranked[:20])\n"
      ]
    },
    {
      "cell_type": "markdown",
      "metadata": {
        "id": "lJtmIOsEjjE7"
      },
      "source": [
        "\n",
        "**Supervisado**\n",
        "\n",
        "1.   FSV\n",
        "2.   LASSO\n",
        "3. NHTP\n",
        "\n"
      ]
    },
    {
      "cell_type": "code",
      "execution_count": null,
      "metadata": {
        "id": "KiUMJqXLjjE8"
      },
      "outputs": [],
      "source": [
        "#  Supervisado (LASSO / FSV)\n",
        "\n",
        "from sklearn.linear_model import LogisticRegression\n",
        "\n",
        "lasso = LogisticRegression(penalty='l1', solver='liblinear').fit(X_scaled, y)\n",
        "lasso_ranking = np.argsort(np.abs(lasso.coef_).sum(axis=0))[::-1]\n",
        "#rankings['LASSO'] = np.argsort(np.abs(lasso.coef_).sum(axis=0))[::-1]\n",
        "\n"
      ]
    },
    {
      "cell_type": "code",
      "execution_count": null,
      "metadata": {
        "id": "lqfG3wlbjjE8"
      },
      "outputs": [],
      "source": [
        "# Supervisador (NHTP)\n",
        "\n",
        "def nhtp(X, y, k=20, max_iter=100, tol=1e-4):\n",
        "    n, d = X.shape\n",
        "    w = np.zeros(d)\n",
        "\n",
        "    for iteration in range(max_iter):\n",
        "        # Gradiente de la función de pérdida (MSE)\n",
        "        gradient = -2 * X.T @ (y - X @ w)\n",
        "\n",
        "        # Paso de Newton (descenso)\n",
        "        w_temp = w - 0.01 * gradient\n",
        "\n",
        "        # Umbralización: mantener solo top-k entradas\n",
        "        idx = np.argsort(np.abs(w_temp))[-k:]\n",
        "        w_new = np.zeros(d)\n",
        "        w_new[idx] = w_temp[idx]\n",
        "\n",
        "        # Verificar convergencia\n",
        "        if np.linalg.norm(w_new - w) < tol:\n",
        "            break\n",
        "\n",
        "        w = w_new\n",
        "\n",
        "    # Ranking: ordenar por magnitud de coeficientes\n",
        "    ranking = np.argsort(np.abs(w))[::-1]\n",
        "    return ranking\n",
        "\n",
        "nhtp_ranking = nhtp(X_scaled, y, k=20)\n",
        "rankings['NHTP'] = nhtp_ranking\n",
        "print(\"Top 20 features (NHTP):\", nhtp_ranking[:20])\n"
      ]
    },
    {
      "cell_type": "markdown",
      "source": [
        "# **4. Evaluación Común y Comparativa (ENVOLTURA E INTEGRADOS)**"
      ],
      "metadata": {
        "id": "KEuYc0zckNvX"
      }
    },
    {
      "cell_type": "code",
      "source": [
        "evaluated_methods = {\n",
        "    \"DGUFS\": rankings['DGUFS'],\n",
        "    \"FSASL\": rankings['FSASL'],\n",
        "    \"UFSOL\": rankings['UFSOL'],\n",
        "    \"UDFS\": rankings['UDFS'],\n",
        "    \"FSV\": rankings['FSV'],\n",
        "    \"LASSO\": rankings['LASSO']\n",
        "}\n",
        "\n",
        "results_env_int = {}\n",
        "\n",
        "for name, ranked in evaluated_methods.items():\n",
        "    accs = []\n",
        "    for k in features_range:\n",
        "        top_k = ranked[:k]\n",
        "        clf = SVC(kernel='linear')\n",
        "        clf.fit(X_train[:, top_k], y_train)\n",
        "        y_pred = clf.predict(X_test[:, top_k])\n",
        "        accs.append(accuracy_score(y_test, y_pred))\n",
        "    results_env_int[name] = accs\n"
      ],
      "metadata": {
        "id": "ezjJr_AxkPcp"
      },
      "execution_count": null,
      "outputs": []
    },
    {
      "cell_type": "code",
      "source": [
        "# Gráfico\n",
        "plt.figure(figsize=(12, 7))\n",
        "for name, accs in results_env_int.items():\n",
        "    plt.plot(features_range, accs, marker='o', label=name)\n",
        "plt.title(\"Comparación de métodos de envoltura e integrados\")\n",
        "plt.xlabel(\"Número de características seleccionadas\")\n",
        "plt.ylabel(\"Precisión SVM\")\n",
        "plt.legend()\n",
        "plt.grid(True)\n",
        "plt.show()"
      ],
      "metadata": {
        "id": "nB04XEbIkUFM"
      },
      "execution_count": null,
      "outputs": []
    },
    {
      "cell_type": "markdown",
      "source": [
        "# **5. Consolidación y comparación global**"
      ],
      "metadata": {
        "id": "Mhjr2TpMuNvh"
      }
    },
    {
      "cell_type": "code",
      "source": [
        "all_rankings = {}\n",
        "all_rankings.update(rankings)  # Ya contiene muchos métodos\n",
        "# Añadir Inf-FS supervisado y no supervisado si no están incluidos\n",
        "all_rankings[\"Inf-FS(s)\"] = inf_fs_supervised(X_train, y_train)[0]\n",
        "all_rankings[\"Inf-FS(u)\"] = ranked_features  # resultado de inf_fs no supervisado\n",
        "\n",
        "results_global = {}\n",
        "\n",
        "for name, ranked in all_rankings.items():\n",
        "    # Evitar métodos con rankings incompletos (verificar tamaño)\n",
        "    if len(ranked) != X_train.shape[1]:\n",
        "        continue\n",
        "    accs = []\n",
        "    for k in features_range:\n",
        "        top_k = ranked[:k]\n",
        "        clf = SVC(kernel='linear')\n",
        "        clf.fit(X_train[:, top_k], y_train)\n",
        "        y_pred = clf.predict(X_test[:, top_k])\n",
        "        accs.append(accuracy_score(y_test, y_pred))\n",
        "    results_global[name] = accs"
      ],
      "metadata": {
        "id": "wck5gZp5uPiv"
      },
      "execution_count": null,
      "outputs": []
    },
    {
      "cell_type": "code",
      "source": [
        "# Gráfico global comparativo\n",
        "plt.figure(figsize=(14, 8))\n",
        "for name, accs in results_global.items():\n",
        "    plt.plot(features_range, accs, label=name)\n",
        "plt.title(\"Comparación global de métodos de selección de características\")\n",
        "plt.xlabel(\"Número de características seleccionadas\")\n",
        "plt.ylabel(\"Precisión SVM\")\n",
        "plt.legend(fontsize='small', loc='best', ncol=2)\n",
        "plt.grid(True)\n",
        "plt.show()"
      ],
      "metadata": {
        "id": "R5K8eL_9uTOx"
      },
      "execution_count": null,
      "outputs": []
    },
    {
      "cell_type": "markdown",
      "source": [
        "# **6. Tabla resumen**"
      ],
      "metadata": {
        "id": "I-jktGzhwhJU"
      }
    },
    {
      "cell_type": "code",
      "source": [
        "comparison = pd.DataFrame([\n",
        "    {\"Método\": \"Inf-FS(u)\", \"Tipo\": \"Filtro\", \"Supervisión\": \"No\", \"Complejidad\": \"Alta\", \"Precisión máx\": max(results[\"Inf-FS(u)\"])},\n",
        "    {\"Método\": \"ReliefF\", \"Tipo\": \"Filtro\", \"Supervisión\": \"Sí\", \"Complejidad\": \"Media\", \"Precisión máx\": max(results[\"ReliefF\"])},\n",
        "    ...\n",
        "])\n",
        "print(comparison.sort_values(by=\"Precisión máx\", ascending=False))\n"
      ],
      "metadata": {
        "id": "ugjKAOI8wgEt"
      },
      "execution_count": null,
      "outputs": []
    }
  ],
  "metadata": {
    "colab": {
      "provenance": [],
      "authorship_tag": "ABX9TyPWeUlAHRsDpETjRe/x0gVT",
      "include_colab_link": true
    },
    "kernelspec": {
      "display_name": "Python 3",
      "name": "python3"
    },
    "language_info": {
      "name": "python"
    }
  },
  "nbformat": 4,
  "nbformat_minor": 0
}