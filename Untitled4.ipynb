{
  "cells": [
    {
      "cell_type": "markdown",
      "metadata": {
        "id": "view-in-github",
        "colab_type": "text"
      },
      "source": [
        "<a href=\"https://colab.research.google.com/github/Chijiro31/-Infinite-Feature-Selection-a-Graph-based-Feature-/blob/main/Untitled4.ipynb\" target=\"_parent\"><img src=\"https://colab.research.google.com/assets/colab-badge.svg\" alt=\"Open In Colab\"/></a>"
      ]
    },
    {
      "cell_type": "markdown",
      "metadata": {
        "id": "Xf_UQvHGM5QT"
      },
      "source": [
        "# **Infinite Feature Selection: A Graph-based Feature Filtering Approach**\n",
        "\n",
        "*  Giorgio Roffo, Simone Melzi, Member, IEEE, Umberto Castellani,\n",
        " Alessandro Vinciarelli, Member, IEEE and Marco Cristani, Member, IEEE\n"
      ]
    },
    {
      "cell_type": "markdown",
      "metadata": {
        "id": "nbaThFFtagOs"
      },
      "source": [
        "**Improtar las Bibliotecas**"
      ]
    },
    {
      "cell_type": "code",
      "execution_count": null,
      "metadata": {
        "id": "c_LZi9BqN4FN",
        "colab": {
          "base_uri": "https://localhost:8080/"
        },
        "outputId": "8c69749e-ae38-4d82-b9ff-a0bc5bbcc0b9"
      },
      "outputs": [
        {
          "output_type": "stream",
          "name": "stdout",
          "text": [
            "Collecting skrebate\n",
            "  Downloading skrebate-0.62.tar.gz (19 kB)\n",
            "  Preparing metadata (setup.py) ... \u001b[?25l\u001b[?25hdone\n",
            "Requirement already satisfied: gdown in /usr/local/lib/python3.11/dist-packages (5.2.0)\n",
            "Requirement already satisfied: numpy in /usr/local/lib/python3.11/dist-packages (from skrebate) (2.0.2)\n",
            "Requirement already satisfied: scipy in /usr/local/lib/python3.11/dist-packages (from skrebate) (1.15.3)\n",
            "Requirement already satisfied: scikit-learn in /usr/local/lib/python3.11/dist-packages (from skrebate) (1.6.1)\n",
            "Requirement already satisfied: beautifulsoup4 in /usr/local/lib/python3.11/dist-packages (from gdown) (4.13.4)\n",
            "Requirement already satisfied: filelock in /usr/local/lib/python3.11/dist-packages (from gdown) (3.18.0)\n",
            "Requirement already satisfied: requests[socks] in /usr/local/lib/python3.11/dist-packages (from gdown) (2.32.3)\n",
            "Requirement already satisfied: tqdm in /usr/local/lib/python3.11/dist-packages (from gdown) (4.67.1)\n",
            "Requirement already satisfied: soupsieve>1.2 in /usr/local/lib/python3.11/dist-packages (from beautifulsoup4->gdown) (2.7)\n",
            "Requirement already satisfied: typing-extensions>=4.0.0 in /usr/local/lib/python3.11/dist-packages (from beautifulsoup4->gdown) (4.14.0)\n",
            "Requirement already satisfied: charset-normalizer<4,>=2 in /usr/local/lib/python3.11/dist-packages (from requests[socks]->gdown) (3.4.2)\n",
            "Requirement already satisfied: idna<4,>=2.5 in /usr/local/lib/python3.11/dist-packages (from requests[socks]->gdown) (3.10)\n",
            "Requirement already satisfied: urllib3<3,>=1.21.1 in /usr/local/lib/python3.11/dist-packages (from requests[socks]->gdown) (2.4.0)\n",
            "Requirement already satisfied: certifi>=2017.4.17 in /usr/local/lib/python3.11/dist-packages (from requests[socks]->gdown) (2025.4.26)\n",
            "Requirement already satisfied: PySocks!=1.5.7,>=1.5.6 in /usr/local/lib/python3.11/dist-packages (from requests[socks]->gdown) (1.7.1)\n",
            "Requirement already satisfied: joblib>=1.2.0 in /usr/local/lib/python3.11/dist-packages (from scikit-learn->skrebate) (1.5.1)\n",
            "Requirement already satisfied: threadpoolctl>=3.1.0 in /usr/local/lib/python3.11/dist-packages (from scikit-learn->skrebate) (3.6.0)\n",
            "Building wheels for collected packages: skrebate\n",
            "  Building wheel for skrebate (setup.py) ... \u001b[?25l\u001b[?25hdone\n",
            "  Created wheel for skrebate: filename=skrebate-0.62-py3-none-any.whl size=29253 sha256=69e03000fcf6a6c74bc49f15f93f772a6662d9d93261811b4c1a29c16822e637\n",
            "  Stored in directory: /root/.cache/pip/wheels/8a/d2/67/8368fca718041057b33d6448ca526aaf1ce2e404c94b901e41\n",
            "Successfully built skrebate\n",
            "Installing collected packages: skrebate\n",
            "Successfully installed skrebate-0.62\n",
            "Cloning into 'scikit-feature'...\n",
            "remote: Enumerating objects: 1089, done.\u001b[K\n",
            "remote: Counting objects: 100% (132/132), done.\u001b[K\n",
            "remote: Compressing objects: 100% (74/74), done.\u001b[K\n",
            "remote: Total 1089 (delta 57), reused 132 (delta 57), pack-reused 957 (from 1)\u001b[K\n",
            "Receiving objects: 100% (1089/1089), 194.81 MiB | 34.11 MiB/s, done.\n",
            "Resolving deltas: 100% (643/643), done.\n",
            "Requirement already satisfied: scikit-learn in /usr/local/lib/python3.11/dist-packages (1.6.1)\n",
            "Requirement already satisfied: skrebate in /usr/local/lib/python3.11/dist-packages (0.62)\n",
            "\u001b[31mERROR: Could not find a version that satisfies the requirement sklearn-feature-selection (from versions: none)\u001b[0m\u001b[31m\n",
            "\u001b[0m\u001b[31mERROR: No matching distribution found for sklearn-feature-selection\u001b[0m\u001b[31m\n",
            "\u001b[0m/content/scikit-feature\n",
            "Obtaining file:///content/scikit-feature\n",
            "  Preparing metadata (setup.py) ... \u001b[?25l\u001b[?25hdone\n",
            "Installing collected packages: skfeature\n",
            "  Running setup.py develop for skfeature\n",
            "Successfully installed skfeature-1.0.0\n",
            "Obtaining file:///content/scikit-feature\n",
            "  Preparing metadata (setup.py) ... \u001b[?25l\u001b[?25hdone\n",
            "Installing collected packages: skfeature\n",
            "  Attempting uninstall: skfeature\n",
            "    Found existing installation: skfeature 1.0.0\n",
            "    Uninstalling skfeature-1.0.0:\n",
            "      Successfully uninstalled skfeature-1.0.0\n",
            "  Running setup.py develop for skfeature\n",
            "Successfully installed skfeature-1.0.0\n",
            "/content\n"
          ]
        }
      ],
      "source": [
        "# Requisitos de instalación\n",
        "!pip install -q scikit-learn skfeature-chappers skrebate gdown PyIFS\n",
        "!git clone https://github.com/jundongl/scikit-feature.git\n",
        "!pip install skfeature-chappers\n",
        "%cd scikit-feature\n",
        "!pip install -e .\n",
        "%cd ..\n",
        "\n",
        "# Solución al problema de PyIFS: importar scipy.stats\n",
        "!sed -i '1i import scipy.stats as stats' /usr/local/lib/python3.11/dist-packages/PyIFS/InfFS.py"
      ]
    },
    {
      "cell_type": "code",
      "source": [
        "# Importaciones\n",
        "\n",
        "import numpy as np\n",
        "import pandas as pd\n",
        "import matplotlib.pyplot as plt\n",
        "from sklearn.preprocessing import MinMaxScaler\n",
        "from sklearn.feature_selection import mutual_info_classif\n",
        "from skrebate import ReliefF\n",
        "from skfeature.function.similarity_based import lap_score\n",
        "from skfeature.utility import construct_W\n",
        "from skfeature.function.sparse_learning_based import MCFS\n",
        "from PyIFS import InfFS\n",
        "import scipy.stats as stats"
      ],
      "metadata": {
        "id": "KRY5GuyZJQnp"
      },
      "execution_count": null,
      "outputs": []
    },
    {
      "cell_type": "markdown",
      "metadata": {
        "id": "sju2sd3Rarf5"
      },
      "source": [
        "**Configuración de visualización**"
      ]
    },
    {
      "cell_type": "code",
      "execution_count": null,
      "metadata": {
        "id": "RAWqP0ELVpZz"
      },
      "outputs": [],
      "source": [
        "plt.style.use('ggplot')\n",
        "%matplotlib inline"
      ]
    },
    {
      "cell_type": "markdown",
      "metadata": {
        "id": "2qjVIfyMaxvJ"
      },
      "source": [
        "**Cargar el archivo CSV**"
      ]
    },
    {
      "cell_type": "code",
      "execution_count": null,
      "metadata": {
        "colab": {
          "base_uri": "https://localhost:8080/",
          "height": 177
        },
        "id": "V7mS5zFDa00L",
        "outputId": "1a1b6a18-2ddb-412d-9a6f-67c251adc3bc"
      },
      "outputs": [
        {
          "output_type": "display_data",
          "data": {
            "text/plain": [
              "<IPython.core.display.HTML object>"
            ],
            "text/html": [
              "\n",
              "     <input type=\"file\" id=\"files-ff017a62-76a7-40a0-9484-cd8d8ac122fc\" name=\"files[]\" multiple disabled\n",
              "        style=\"border:none\" />\n",
              "     <output id=\"result-ff017a62-76a7-40a0-9484-cd8d8ac122fc\">\n",
              "      Upload widget is only available when the cell has been executed in the\n",
              "      current browser session. Please rerun this cell to enable.\n",
              "      </output>\n",
              "      <script>// Copyright 2017 Google LLC\n",
              "//\n",
              "// Licensed under the Apache License, Version 2.0 (the \"License\");\n",
              "// you may not use this file except in compliance with the License.\n",
              "// You may obtain a copy of the License at\n",
              "//\n",
              "//      http://www.apache.org/licenses/LICENSE-2.0\n",
              "//\n",
              "// Unless required by applicable law or agreed to in writing, software\n",
              "// distributed under the License is distributed on an \"AS IS\" BASIS,\n",
              "// WITHOUT WARRANTIES OR CONDITIONS OF ANY KIND, either express or implied.\n",
              "// See the License for the specific language governing permissions and\n",
              "// limitations under the License.\n",
              "\n",
              "/**\n",
              " * @fileoverview Helpers for google.colab Python module.\n",
              " */\n",
              "(function(scope) {\n",
              "function span(text, styleAttributes = {}) {\n",
              "  const element = document.createElement('span');\n",
              "  element.textContent = text;\n",
              "  for (const key of Object.keys(styleAttributes)) {\n",
              "    element.style[key] = styleAttributes[key];\n",
              "  }\n",
              "  return element;\n",
              "}\n",
              "\n",
              "// Max number of bytes which will be uploaded at a time.\n",
              "const MAX_PAYLOAD_SIZE = 100 * 1024;\n",
              "\n",
              "function _uploadFiles(inputId, outputId) {\n",
              "  const steps = uploadFilesStep(inputId, outputId);\n",
              "  const outputElement = document.getElementById(outputId);\n",
              "  // Cache steps on the outputElement to make it available for the next call\n",
              "  // to uploadFilesContinue from Python.\n",
              "  outputElement.steps = steps;\n",
              "\n",
              "  return _uploadFilesContinue(outputId);\n",
              "}\n",
              "\n",
              "// This is roughly an async generator (not supported in the browser yet),\n",
              "// where there are multiple asynchronous steps and the Python side is going\n",
              "// to poll for completion of each step.\n",
              "// This uses a Promise to block the python side on completion of each step,\n",
              "// then passes the result of the previous step as the input to the next step.\n",
              "function _uploadFilesContinue(outputId) {\n",
              "  const outputElement = document.getElementById(outputId);\n",
              "  const steps = outputElement.steps;\n",
              "\n",
              "  const next = steps.next(outputElement.lastPromiseValue);\n",
              "  return Promise.resolve(next.value.promise).then((value) => {\n",
              "    // Cache the last promise value to make it available to the next\n",
              "    // step of the generator.\n",
              "    outputElement.lastPromiseValue = value;\n",
              "    return next.value.response;\n",
              "  });\n",
              "}\n",
              "\n",
              "/**\n",
              " * Generator function which is called between each async step of the upload\n",
              " * process.\n",
              " * @param {string} inputId Element ID of the input file picker element.\n",
              " * @param {string} outputId Element ID of the output display.\n",
              " * @return {!Iterable<!Object>} Iterable of next steps.\n",
              " */\n",
              "function* uploadFilesStep(inputId, outputId) {\n",
              "  const inputElement = document.getElementById(inputId);\n",
              "  inputElement.disabled = false;\n",
              "\n",
              "  const outputElement = document.getElementById(outputId);\n",
              "  outputElement.innerHTML = '';\n",
              "\n",
              "  const pickedPromise = new Promise((resolve) => {\n",
              "    inputElement.addEventListener('change', (e) => {\n",
              "      resolve(e.target.files);\n",
              "    });\n",
              "  });\n",
              "\n",
              "  const cancel = document.createElement('button');\n",
              "  inputElement.parentElement.appendChild(cancel);\n",
              "  cancel.textContent = 'Cancel upload';\n",
              "  const cancelPromise = new Promise((resolve) => {\n",
              "    cancel.onclick = () => {\n",
              "      resolve(null);\n",
              "    };\n",
              "  });\n",
              "\n",
              "  // Wait for the user to pick the files.\n",
              "  const files = yield {\n",
              "    promise: Promise.race([pickedPromise, cancelPromise]),\n",
              "    response: {\n",
              "      action: 'starting',\n",
              "    }\n",
              "  };\n",
              "\n",
              "  cancel.remove();\n",
              "\n",
              "  // Disable the input element since further picks are not allowed.\n",
              "  inputElement.disabled = true;\n",
              "\n",
              "  if (!files) {\n",
              "    return {\n",
              "      response: {\n",
              "        action: 'complete',\n",
              "      }\n",
              "    };\n",
              "  }\n",
              "\n",
              "  for (const file of files) {\n",
              "    const li = document.createElement('li');\n",
              "    li.append(span(file.name, {fontWeight: 'bold'}));\n",
              "    li.append(span(\n",
              "        `(${file.type || 'n/a'}) - ${file.size} bytes, ` +\n",
              "        `last modified: ${\n",
              "            file.lastModifiedDate ? file.lastModifiedDate.toLocaleDateString() :\n",
              "                                    'n/a'} - `));\n",
              "    const percent = span('0% done');\n",
              "    li.appendChild(percent);\n",
              "\n",
              "    outputElement.appendChild(li);\n",
              "\n",
              "    const fileDataPromise = new Promise((resolve) => {\n",
              "      const reader = new FileReader();\n",
              "      reader.onload = (e) => {\n",
              "        resolve(e.target.result);\n",
              "      };\n",
              "      reader.readAsArrayBuffer(file);\n",
              "    });\n",
              "    // Wait for the data to be ready.\n",
              "    let fileData = yield {\n",
              "      promise: fileDataPromise,\n",
              "      response: {\n",
              "        action: 'continue',\n",
              "      }\n",
              "    };\n",
              "\n",
              "    // Use a chunked sending to avoid message size limits. See b/62115660.\n",
              "    let position = 0;\n",
              "    do {\n",
              "      const length = Math.min(fileData.byteLength - position, MAX_PAYLOAD_SIZE);\n",
              "      const chunk = new Uint8Array(fileData, position, length);\n",
              "      position += length;\n",
              "\n",
              "      const base64 = btoa(String.fromCharCode.apply(null, chunk));\n",
              "      yield {\n",
              "        response: {\n",
              "          action: 'append',\n",
              "          file: file.name,\n",
              "          data: base64,\n",
              "        },\n",
              "      };\n",
              "\n",
              "      let percentDone = fileData.byteLength === 0 ?\n",
              "          100 :\n",
              "          Math.round((position / fileData.byteLength) * 100);\n",
              "      percent.textContent = `${percentDone}% done`;\n",
              "\n",
              "    } while (position < fileData.byteLength);\n",
              "  }\n",
              "\n",
              "  // All done.\n",
              "  yield {\n",
              "    response: {\n",
              "      action: 'complete',\n",
              "    }\n",
              "  };\n",
              "}\n",
              "\n",
              "scope.google = scope.google || {};\n",
              "scope.google.colab = scope.google.colab || {};\n",
              "scope.google.colab._files = {\n",
              "  _uploadFiles,\n",
              "  _uploadFilesContinue,\n",
              "};\n",
              "})(self);\n",
              "</script> "
            ]
          },
          "metadata": {}
        },
        {
          "output_type": "stream",
          "name": "stdout",
          "text": [
            "Saving X_train.txt to X_train.txt\n",
            "Saving y_train.txt to y_train.txt\n",
            "Saving X_test.txt to X_test.txt\n",
            "Saving y_test.txt to y_test.txt\n"
          ]
        }
      ],
      "source": [
        "from google.colab import files\n",
        "uploaded = files.upload()"
      ]
    },
    {
      "cell_type": "markdown",
      "metadata": {
        "id": "JrD09NVNa7Bo"
      },
      "source": [
        "**Leer los Datos**"
      ]
    },
    {
      "cell_type": "code",
      "execution_count": null,
      "metadata": {
        "id": "PtCOyZ0FbCqm"
      },
      "outputs": [],
      "source": [
        "import numpy as np\n",
        "import pandas as pd\n",
        "from sklearn.preprocessing import MinMaxScaler\n",
        "\n",
        "# Cargar archivos\n",
        "X_train = np.loadtxt(\"X_train.txt\")\n",
        "y_train = np.loadtxt(\"y_train.txt\")\n",
        "X_test = np.loadtxt(\"X_test.txt\")\n",
        "y_test = np.loadtxt(\"y_test.txt\")\n",
        "\n",
        "# Combinar todo\n",
        "X = np.vstack([X_train, X_test])\n",
        "y = np.hstack([y_train, y_test])\n",
        "\n",
        "# Escalar\n",
        "scaler = MinMaxScaler()\n",
        "X_scaled = scaler.fit_transform(X)\n",
        "\n",
        "rankings = {}\n"
      ]
    },
    {
      "cell_type": "markdown",
      "metadata": {
        "id": "Rp7Eypf92Y-b"
      },
      "source": [
        "# **1. Metodos de Filtrado**"
      ]
    },
    {
      "cell_type": "markdown",
      "metadata": {
        "id": "AJEDOcth2gMD"
      },
      "source": [
        "# **No supervisado**\n"
      ]
    },
    {
      "cell_type": "markdown",
      "metadata": {
        "id": "ghicU7moi4bd"
      },
      "source": [
        "**Laplacian Score (LS)**"
      ]
    },
    {
      "cell_type": "code",
      "execution_count": null,
      "metadata": {
        "id": "2spEKpeh2fuq",
        "colab": {
          "base_uri": "https://localhost:8080/"
        },
        "outputId": "1e9b2002-ebae-4371-83cc-1ac6b1d24045"
      },
      "outputs": [
        {
          "output_type": "stream",
          "name": "stdout",
          "text": [
            "Collecting skfeature-chappers\n",
            "  Downloading skfeature_chappers-1.1.0-py3-none-any.whl.metadata (926 bytes)\n",
            "Requirement already satisfied: scikit-learn in /usr/local/lib/python3.11/dist-packages (from skfeature-chappers) (1.6.1)\n",
            "Requirement already satisfied: pandas in /usr/local/lib/python3.11/dist-packages (from skfeature-chappers) (2.2.2)\n",
            "Requirement already satisfied: numpy in /usr/local/lib/python3.11/dist-packages (from skfeature-chappers) (2.0.2)\n",
            "Requirement already satisfied: python-dateutil>=2.8.2 in /usr/local/lib/python3.11/dist-packages (from pandas->skfeature-chappers) (2.9.0.post0)\n",
            "Requirement already satisfied: pytz>=2020.1 in /usr/local/lib/python3.11/dist-packages (from pandas->skfeature-chappers) (2025.2)\n",
            "Requirement already satisfied: tzdata>=2022.7 in /usr/local/lib/python3.11/dist-packages (from pandas->skfeature-chappers) (2025.2)\n",
            "Requirement already satisfied: scipy>=1.6.0 in /usr/local/lib/python3.11/dist-packages (from scikit-learn->skfeature-chappers) (1.15.3)\n",
            "Requirement already satisfied: joblib>=1.2.0 in /usr/local/lib/python3.11/dist-packages (from scikit-learn->skfeature-chappers) (1.5.1)\n",
            "Requirement already satisfied: threadpoolctl>=3.1.0 in /usr/local/lib/python3.11/dist-packages (from scikit-learn->skfeature-chappers) (3.6.0)\n",
            "Requirement already satisfied: six>=1.5 in /usr/local/lib/python3.11/dist-packages (from python-dateutil>=2.8.2->pandas->skfeature-chappers) (1.17.0)\n",
            "Downloading skfeature_chappers-1.1.0-py3-none-any.whl (66 kB)\n",
            "\u001b[2K   \u001b[90m━━━━━━━━━━━━━━━━━━━━━━━━━━━━━━━━━━━━━━━━\u001b[0m \u001b[32m66.3/66.3 kB\u001b[0m \u001b[31m2.0 MB/s\u001b[0m eta \u001b[36m0:00:00\u001b[0m\n",
            "\u001b[?25hInstalling collected packages: skfeature-chappers\n",
            "Successfully installed skfeature-chappers-1.1.0\n",
            "Top 20 features (Laplacian Score): [277 247 306  10  42  84  19  65 114  78 264 251  50  98 108   5 106 234\n",
            " 242 126]\n"
          ]
        }
      ],
      "source": [
        "W = construct_W.construct_W(X_scaled)\n",
        "scores = lap_score.lap_score(X_scaled, W=W)\n",
        "lap_ranking = np.argsort(scores)[::-1]\n",
        "print(\"Top 20 features (Laplacian Score):\", lap_ranking[:20])"
      ]
    },
    {
      "cell_type": "markdown",
      "metadata": {
        "id": "-e7lS2YIi-ch"
      },
      "source": [
        "**Multi-Cluster Feature Selection (MCFS)**"
      ]
    },
    {
      "cell_type": "code",
      "execution_count": null,
      "metadata": {
        "id": "THgZRnGfjAJg",
        "colab": {
          "base_uri": "https://localhost:8080/"
        },
        "outputId": "509dee27-e968-4376-90c3-112e7b8aef21"
      },
      "outputs": [
        {
          "output_type": "stream",
          "name": "stderr",
          "text": [
            "/usr/local/lib/python3.11/dist-packages/sklearn/linear_model/_least_angle.py:723: ConvergenceWarning: Regressors in active set degenerate. Dropping a regressor, after 13 iterations, i.e. alpha=5.105e-06, with an active set of 12 regressors, and the smallest cholesky pivot element being 2.220e-16. Reduce max_iter or increase eps parameters.\n",
            "  warnings.warn(\n"
          ]
        }
      ],
      "source": [
        "weight = MCFS.mcfs(X_scaled, n_selected_features=20, n_clusters=6)\n",
        "mcfs_ranking = np.argsort(np.abs(weight))[::-1]\n",
        "rankings['MCFS'] = mcfs_ranking"
      ]
    },
    {
      "cell_type": "markdown",
      "metadata": {
        "id": "sf3227nLjCaQ"
      },
      "source": [
        "**Local Learning-based Clustering Feature Selection (LLCFS)**"
      ]
    },
    {
      "cell_type": "markdown",
      "metadata": {
        "id": "hjuy68KL234x"
      },
      "source": [
        "# **Supervisados**\n",
        "\n"
      ]
    },
    {
      "cell_type": "markdown",
      "metadata": {
        "id": "UA0vgA_43DW6"
      },
      "source": [
        "**Relief-F**"
      ]
    },
    {
      "cell_type": "code",
      "execution_count": null,
      "metadata": {
        "id": "sfOvagYH3Ke7",
        "colab": {
          "base_uri": "https://localhost:8080/"
        },
        "outputId": "76f6ece1-13ab-4294-dcfd-e4baa974b629"
      },
      "outputs": [
        {
          "output_type": "stream",
          "name": "stdout",
          "text": [
            "Top 20 features (ReliefF): [366  56 287 367   9 523 234 368 102 510 558 288   3 280 271 268 231 226\n",
            " 265  95]\n"
          ]
        }
      ],
      "source": [
        "r = ReliefF(n_neighbors=10)\n",
        "r.fit(X_scaled, y)\n",
        "rankings['ReliefF'] = np.argsort(r.feature_importances_)[::-1]\n",
        "\n",
        "print(\"Top 20 features (ReliefF):\", rankings['ReliefF'][:20])\n",
        "\n"
      ]
    },
    {
      "cell_type": "markdown",
      "metadata": {
        "id": "dfjioxzw3HbD"
      },
      "source": [
        "**Mutual Information (MI)**"
      ]
    },
    {
      "cell_type": "code",
      "execution_count": null,
      "metadata": {
        "id": "L7g1vWp7_OH0",
        "colab": {
          "base_uri": "https://localhost:8080/"
        },
        "outputId": "fd2af13b-c7c4-40c4-c8d8-56b0be306474"
      },
      "outputs": [
        {
          "output_type": "stream",
          "name": "stdout",
          "text": [
            "Top 20 features (MI): [ 52  40  49  56 302 310 268   9 314   3 281  16 381 504 201 214 503 274\n",
            "   6 271]\n"
          ]
        }
      ],
      "source": [
        "mi_scores = mutual_info_classif(X_scaled, y, random_state=42)\n",
        "mi_ranking = np.argsort(mi_scores)[::-1]\n",
        "rankings['Mutual Information'] = mi_ranking\n",
        "print(\"Top 20 features (MI):\", mi_ranking[:20])"
      ]
    },
    {
      "cell_type": "markdown",
      "metadata": {
        "id": "763RZrKv3NTS"
      },
      "source": [
        "**Fisher Score**"
      ]
    },
    {
      "cell_type": "code",
      "execution_count": null,
      "metadata": {
        "id": "AEEm2KXp3O3Z",
        "colab": {
          "base_uri": "https://localhost:8080/"
        },
        "outputId": "ba2fab80-7609-46b7-ba39-b57025623151"
      },
      "outputs": [
        {
          "output_type": "stream",
          "name": "stdout",
          "text": [
            "Top 20 features (Fisher Score): [381 389 393 382 303 360  96 386 391 310 314 281 302 385 232 383 394 390\n",
            " 397  16]\n"
          ]
        }
      ],
      "source": [
        "def fisher_score(X, y):\n",
        "    n_samples, n_features = X.shape\n",
        "    unique_classes = np.unique(y)\n",
        "    mean_overall = np.mean(X, axis=0)\n",
        "    scores = np.zeros(n_features)\n",
        "    for c in unique_classes:\n",
        "        X_c = X[y == c]\n",
        "        n_c = X_c.shape[0]\n",
        "        mean_c = np.mean(X_c, axis=0)\n",
        "        var_c = np.var(X_c, axis=0) + 1e-12\n",
        "        scores += (n_c * (mean_c - mean_overall) ** 2) / var_c\n",
        "    return scores\n",
        "\n",
        "fs = fisher_score(X_scaled, y)\n",
        "ranking_fs = np.argsort(fs)[::-1]\n",
        "rankings['Fisher Score'] = ranking_fs\n",
        "print(\"Top 20 features (Fisher Score):\", ranking_fs[:20])"
      ]
    },
    {
      "cell_type": "markdown",
      "metadata": {
        "id": "PPCdkGlJ3R3J"
      },
      "source": [
        "**ECFS (Ensemble Approach), ILFS (Infinite Latent Feature Selection), Inf‑FS (no supervisado/supervisado)**"
      ]
    },
    {
      "cell_type": "code",
      "execution_count": null,
      "metadata": {
        "id": "JkHzYIeB3TLM",
        "colab": {
          "base_uri": "https://localhost:8080/",
          "height": 836
        },
        "outputId": "d9f2d6f9-359f-43c2-a166-f8bbb7abfde9"
      },
      "outputs": [
        {
          "output_type": "stream",
          "name": "stdout",
          "text": [
            "Collecting PyIFS\n",
            "  Downloading PyIFS-0.0.3-py3-none-any.whl.metadata (1.2 kB)\n",
            "Requirement already satisfied: numpy in /usr/local/lib/python3.11/dist-packages (from PyIFS) (2.0.2)\n",
            "Downloading PyIFS-0.0.3-py3-none-any.whl (4.2 kB)\n",
            "Installing collected packages: PyIFS\n",
            "Successfully installed PyIFS-0.0.3\n",
            "Collecting git+https://github.com/giorgioroffo/pyInfFS.git\n",
            "  Cloning https://github.com/giorgioroffo/pyInfFS.git to /tmp/pip-req-build-8lx2als7\n",
            "  Running command git clone --filter=blob:none --quiet https://github.com/giorgioroffo/pyInfFS.git /tmp/pip-req-build-8lx2als7\n",
            "  fatal: could not read Username for 'https://github.com': No such device or address\n",
            "  \u001b[1;31merror\u001b[0m: \u001b[1msubprocess-exited-with-error\u001b[0m\n",
            "  \n",
            "  \u001b[31m×\u001b[0m \u001b[32mgit clone --\u001b[0m\u001b[32mfilter\u001b[0m\u001b[32m=\u001b[0m\u001b[32mblob\u001b[0m\u001b[32m:none --quiet \u001b[0m\u001b[4;32mhttps://github.com/giorgioroffo/pyInfFS.git\u001b[0m\u001b[32m \u001b[0m\u001b[32m/tmp/\u001b[0m\u001b[32mpip-req-build-8lx2als7\u001b[0m did not run successfully.\n",
            "  \u001b[31m│\u001b[0m exit code: \u001b[1;36m128\u001b[0m\n",
            "  \u001b[31m╰─>\u001b[0m See above for output.\n",
            "  \n",
            "  \u001b[1;35mnote\u001b[0m: This error originates from a subprocess, and is likely not a problem with pip.\n",
            "\u001b[1;31merror\u001b[0m: \u001b[1msubprocess-exited-with-error\u001b[0m\n",
            "\n",
            "\u001b[31m×\u001b[0m \u001b[32mgit clone --\u001b[0m\u001b[32mfilter\u001b[0m\u001b[32m=\u001b[0m\u001b[32mblob\u001b[0m\u001b[32m:none --quiet \u001b[0m\u001b[4;32mhttps://github.com/giorgioroffo/pyInfFS.git\u001b[0m\u001b[32m \u001b[0m\u001b[32m/tmp/\u001b[0m\u001b[32mpip-req-build-8lx2als7\u001b[0m did not run successfully.\n",
            "\u001b[31m│\u001b[0m exit code: \u001b[1;36m128\u001b[0m\n",
            "\u001b[31m╰─>\u001b[0m See above for output.\n",
            "\n",
            "\u001b[1;35mnote\u001b[0m: This error originates from a subprocess, and is likely not a problem with pip.\n",
            "Requirement already satisfied: skrebate in /usr/local/lib/python3.11/dist-packages (0.62)\n",
            "Requirement already satisfied: gdown in /usr/local/lib/python3.11/dist-packages (5.2.0)\n",
            "Requirement already satisfied: scikit-learn in /usr/local/lib/python3.11/dist-packages (1.6.1)\n",
            "\u001b[31mERROR: Could not find a version that satisfies the requirement sklearn-feature-selection (from versions: none)\u001b[0m\u001b[31m\n",
            "\u001b[0m\u001b[31mERROR: No matching distribution found for sklearn-feature-selection\u001b[0m\u001b[31m\n",
            "\u001b[0m"
          ]
        },
        {
          "output_type": "error",
          "ename": "NameError",
          "evalue": "name 'stats' is not defined",
          "traceback": [
            "\u001b[0;31m---------------------------------------------------------------------------\u001b[0m",
            "\u001b[0;31mNameError\u001b[0m                                 Traceback (most recent call last)",
            "\u001b[0;32m<ipython-input-18-2119755354>\u001b[0m in \u001b[0;36m<cell line: 0>\u001b[0;34m()\u001b[0m\n\u001b[1;32m      9\u001b[0m \u001b[0;34m\u001b[0m\u001b[0m\n\u001b[1;32m     10\u001b[0m \u001b[0;31m# Inf FS no supervisado\u001b[0m\u001b[0;34m\u001b[0m\u001b[0;34m\u001b[0m\u001b[0m\n\u001b[0;32m---> 11\u001b[0;31m \u001b[0mrank_unsup\u001b[0m\u001b[0;34m,\u001b[0m \u001b[0m_\u001b[0m \u001b[0;34m=\u001b[0m \u001b[0minf\u001b[0m\u001b[0;34m.\u001b[0m\u001b[0minfFS\u001b[0m\u001b[0;34m(\u001b[0m\u001b[0mX_scaled\u001b[0m\u001b[0;34m,\u001b[0m \u001b[0;32mNone\u001b[0m\u001b[0;34m,\u001b[0m \u001b[0malpha\u001b[0m\u001b[0;34m=\u001b[0m\u001b[0;36m0.5\u001b[0m\u001b[0;34m,\u001b[0m \u001b[0msupervision\u001b[0m\u001b[0;34m=\u001b[0m\u001b[0;36m0\u001b[0m\u001b[0;34m,\u001b[0m \u001b[0mverbose\u001b[0m\u001b[0;34m=\u001b[0m\u001b[0;36m0\u001b[0m\u001b[0;34m)\u001b[0m\u001b[0;34m\u001b[0m\u001b[0;34m\u001b[0m\u001b[0m\n\u001b[0m\u001b[1;32m     12\u001b[0m \u001b[0mprint\u001b[0m\u001b[0;34m(\u001b[0m\u001b[0;34m\"Top-20 Inf-FS (no supervisado):\"\u001b[0m\u001b[0;34m,\u001b[0m \u001b[0mrank_unsup\u001b[0m\u001b[0;34m[\u001b[0m\u001b[0;34m:\u001b[0m\u001b[0;36m20\u001b[0m\u001b[0;34m]\u001b[0m\u001b[0;34m)\u001b[0m\u001b[0;34m\u001b[0m\u001b[0;34m\u001b[0m\u001b[0m\n\u001b[1;32m     13\u001b[0m \u001b[0;34m\u001b[0m\u001b[0m\n",
            "\u001b[0;32m/usr/local/lib/python3.11/dist-packages/PyIFS/InfFS.py\u001b[0m in \u001b[0;36minfFS\u001b[0;34m(self, x_train, y_train, alpha, supervision, verbose)\u001b[0m\n\u001b[1;32m    100\u001b[0m             \u001b[0mcorr_ij\u001b[0m \u001b[0;34m=\u001b[0m \u001b[0mself\u001b[0m\u001b[0;34m.\u001b[0m\u001b[0mDivideByMax\u001b[0m\u001b[0;34m(\u001b[0m\u001b[0mcorr_ij\u001b[0m\u001b[0;34m)\u001b[0m\u001b[0;34m\u001b[0m\u001b[0;34m\u001b[0m\u001b[0m\n\u001b[1;32m    101\u001b[0m         \u001b[0;32melse\u001b[0m\u001b[0;34m:\u001b[0m\u001b[0;34m\u001b[0m\u001b[0;34m\u001b[0m\u001b[0m\n\u001b[0;32m--> 102\u001b[0;31m             \u001b[0mcorr_ij\u001b[0m\u001b[0;34m,\u001b[0m \u001b[0mpval\u001b[0m \u001b[0;34m=\u001b[0m \u001b[0mstats\u001b[0m\u001b[0;34m.\u001b[0m\u001b[0mspearmanr\u001b[0m\u001b[0;34m(\u001b[0m\u001b[0mx_train\u001b[0m\u001b[0;34m)\u001b[0m\u001b[0;34m\u001b[0m\u001b[0;34m\u001b[0m\u001b[0m\n\u001b[0m\u001b[1;32m    103\u001b[0m             \u001b[0;32mfor\u001b[0m \u001b[0mi\u001b[0m \u001b[0;32min\u001b[0m \u001b[0mrange\u001b[0m\u001b[0;34m(\u001b[0m \u001b[0;36m0\u001b[0m\u001b[0;34m,\u001b[0m\u001b[0mcorr_ij\u001b[0m\u001b[0;34m.\u001b[0m\u001b[0mshape\u001b[0m\u001b[0;34m[\u001b[0m\u001b[0;36m0\u001b[0m\u001b[0;34m]\u001b[0m \u001b[0;34m)\u001b[0m\u001b[0;34m:\u001b[0m\u001b[0;34m\u001b[0m\u001b[0;34m\u001b[0m\u001b[0m\n\u001b[1;32m    104\u001b[0m                 \u001b[0;32mfor\u001b[0m \u001b[0mj\u001b[0m \u001b[0;32min\u001b[0m \u001b[0mrange\u001b[0m\u001b[0;34m(\u001b[0m \u001b[0;36m0\u001b[0m\u001b[0;34m,\u001b[0m\u001b[0mcorr_ij\u001b[0m\u001b[0;34m.\u001b[0m\u001b[0mshape\u001b[0m\u001b[0;34m[\u001b[0m\u001b[0;36m1\u001b[0m\u001b[0;34m]\u001b[0m \u001b[0;34m)\u001b[0m\u001b[0;34m:\u001b[0m\u001b[0;34m\u001b[0m\u001b[0;34m\u001b[0m\u001b[0m\n",
            "\u001b[0;31mNameError\u001b[0m: name 'stats' is not defined"
          ]
        }
      ],
      "source": [
        "inf = InfFS()\n",
        "\n",
        "# Inf-FS no supervisado\n",
        "rank_unsup, _ = inf.infFS(X_scaled, None, alpha=0.5, supervision=0, verbose=0)\n",
        "rankings['Inf-FS(u)'] = rank_unsup\n",
        "# Inf-FS supervisado\n",
        "rank_sup, _ = inf.infFS(X_scaled, y, alpha=0.5, supervision=1, verbose=0)\n",
        "rankings['Inf-FS(s)'] = rank_sup\n",
        "\n",
        "# Mostrar rankings\n",
        "for name, ranking in rankings.items():\n",
        "    print(f\"Top 20 features ({name}):\", ranking[:20])\n",
        "\n"
      ]
    },
    {
      "cell_type": "code",
      "source": [
        "print(\"Inf‑FS(u) en rankings:\", 'Inf-FS(u)' in rankings)\n",
        "print(\"Inf‑FS(s) en rankings:\", 'Inf-FS(s)' in rankings)"
      ],
      "metadata": {
        "id": "3SWN_horKhIG"
      },
      "execution_count": null,
      "outputs": []
    },
    {
      "cell_type": "markdown",
      "metadata": {
        "id": "uwG-lMUBC1Pz"
      },
      "source": [
        "# **2.Metodos de Envoltura**"
      ]
    },
    {
      "cell_type": "markdown",
      "metadata": {
        "id": "XdKZ3Xe3C7GO"
      },
      "source": [
        "**No Supervisado**\n",
        "\n",
        "1.   DGUFS\n",
        "2.   FSASL\n",
        "3. UFSOL\n",
        "\n",
        "**Supervisado**\n",
        "\n",
        "1.   RFE\n",
        "2.   SVM\n"
      ]
    },
    {
      "cell_type": "code",
      "execution_count": null,
      "metadata": {
        "id": "H5Ww7b0fRWdb",
        "colab": {
          "base_uri": "https://localhost:8080/"
        },
        "outputId": "97dbb55d-c766-42ea-dc00-278203021d28"
      },
      "outputs": [
        {
          "output_type": "stream",
          "name": "stdout",
          "text": [
            "Iter 0: residual norm = 130.8079\n",
            "Iter 10: residual norm = 124.8462\n",
            "Iter 20: residual norm = 111.8686\n",
            "Iter 30: residual norm = 113.6730\n",
            "Iter 40: residual norm = 127.7720\n",
            "Top‑20 DGUFS: [ 49  40  92 173 172  93 174  94  52 133  12  14 223 132 134  68  56  76\n",
            " 112  74]\n"
          ]
        }
      ],
      "source": [
        "import numpy as np\n",
        "from sklearn.cluster import KMeans\n",
        "from sklearn.preprocessing import normalize\n",
        "from numpy.linalg import norm\n",
        "\n",
        "# 🔹 1. Definición del método dgufs\n",
        "def dgufs(X, n_clusters, n_features, max_iter=50, alpha=1.0, beta=1.0, verbose=False):\n",
        "    n_samples, d = X.shape\n",
        "\n",
        "    # Inicializar W y F\n",
        "    W = np.random.rand(d, n_clusters)\n",
        "    W = normalize(W, axis=0)\n",
        "    kmeans = KMeans(n_clusters=n_clusters, n_init=10, random_state=42)\n",
        "    F = kmeans.fit_transform(X)\n",
        "\n",
        "    for i in range(max_iter):\n",
        "        # Actualización de F mediante clustering en X·W\n",
        "        A = X @ W\n",
        "        kmeans = KMeans(n_clusters=n_clusters, n_init=10, random_state=42)\n",
        "        F = kmeans.fit_transform(A)\n",
        "\n",
        "        # Actualización de W con esquema multiplicativo\n",
        "        numerator = X.T @ F\n",
        "        denominator = W @ (F.T @ F) + alpha * W + beta * np.sign(W)\n",
        "        W = W * (numerator / (denominator + 1e-10))\n",
        "        W = normalize(W, axis=0)\n",
        "\n",
        "        if verbose and i % 10 == 0:\n",
        "            print(f\"Iter {i}: residual norm = {norm(X @ W - F):.4f}\")\n",
        "\n",
        "    # Puntajes por fila de W y selección de features\n",
        "    feature_scores = np.linalg.norm(W, axis=1)\n",
        "    selected = np.argsort(-feature_scores)[:n_features]\n",
        "    return selected, feature_scores\n",
        "\n",
        "# 🔹 2. Ejecutar DGUFS con tus datos\n",
        "n_clusters = len(np.unique(y))       # uno por clase (puedes ajustar)\n",
        "n_features = 20                      # número de features a seleccionar\n",
        "\n",
        "selected_dgufs, scores_dgufs = dgufs(X_scaled, n_clusters, n_features, verbose=True)\n",
        "rankings['DGUFS'] = selected_dgufs\n",
        "print(\"Top‑20 DGUFS:\", selected_dgufs[:20])\n",
        "\n"
      ]
    },
    {
      "cell_type": "code",
      "execution_count": null,
      "metadata": {
        "id": "573YZ0xUxFD8",
        "colab": {
          "base_uri": "https://localhost:8080/",
          "height": 402
        },
        "outputId": "5cbc1fe2-889a-406f-9a76-fcd94d618c96"
      },
      "outputs": [
        {
          "output_type": "error",
          "ename": "ImportError",
          "evalue": "cannot import name 'fsasl' from 'skfeature.function.sparse_learning_based' (/usr/local/lib/python3.11/dist-packages/skfeature/function/sparse_learning_based/__init__.py)",
          "traceback": [
            "\u001b[0;31m---------------------------------------------------------------------------\u001b[0m",
            "\u001b[0;31mImportError\u001b[0m                               Traceback (most recent call last)",
            "\u001b[0;32m<ipython-input-21-3996990960>\u001b[0m in \u001b[0;36m<cell line: 0>\u001b[0;34m()\u001b[0m\n\u001b[1;32m     11\u001b[0m \u001b[0;34m\u001b[0m\u001b[0m\n\u001b[1;32m     12\u001b[0m \u001b[0;31m# --- FSASL (No Supervisado) ---\u001b[0m\u001b[0;34m\u001b[0m\u001b[0;34m\u001b[0m\u001b[0m\n\u001b[0;32m---> 13\u001b[0;31m \u001b[0;32mfrom\u001b[0m \u001b[0mskfeature\u001b[0m\u001b[0;34m.\u001b[0m\u001b[0mfunction\u001b[0m\u001b[0;34m.\u001b[0m\u001b[0msparse_learning_based\u001b[0m \u001b[0;32mimport\u001b[0m \u001b[0mfsasl\u001b[0m\u001b[0;34m\u001b[0m\u001b[0;34m\u001b[0m\u001b[0m\n\u001b[0m\u001b[1;32m     14\u001b[0m \u001b[0mw_fsasl\u001b[0m \u001b[0;34m=\u001b[0m \u001b[0mfsasl\u001b[0m\u001b[0;34m.\u001b[0m\u001b[0mfsasl\u001b[0m\u001b[0;34m(\u001b[0m\u001b[0mX_scaled\u001b[0m\u001b[0;34m,\u001b[0m \u001b[0mn_selected_features\u001b[0m\u001b[0;34m=\u001b[0m\u001b[0;36m20\u001b[0m\u001b[0;34m)\u001b[0m\u001b[0;34m\u001b[0m\u001b[0;34m\u001b[0m\u001b[0m\n\u001b[1;32m     15\u001b[0m \u001b[0mfsasl_scores\u001b[0m \u001b[0;34m=\u001b[0m \u001b[0mnp\u001b[0m\u001b[0;34m.\u001b[0m\u001b[0msum\u001b[0m\u001b[0;34m(\u001b[0m\u001b[0mnp\u001b[0m\u001b[0;34m.\u001b[0m\u001b[0mabs\u001b[0m\u001b[0;34m(\u001b[0m\u001b[0mw_fsasl\u001b[0m\u001b[0;34m)\u001b[0m\u001b[0;34m,\u001b[0m \u001b[0maxis\u001b[0m\u001b[0;34m=\u001b[0m\u001b[0;36m1\u001b[0m\u001b[0;34m)\u001b[0m\u001b[0;34m\u001b[0m\u001b[0;34m\u001b[0m\u001b[0m\n",
            "\u001b[0;31mImportError\u001b[0m: cannot import name 'fsasl' from 'skfeature.function.sparse_learning_based' (/usr/local/lib/python3.11/dist-packages/skfeature/function/sparse_learning_based/__init__.py)",
            "",
            "\u001b[0;31m---------------------------------------------------------------------------\u001b[0;32m\nNOTE: If your import is failing due to a missing package, you can\nmanually install dependencies using either !pip or !apt.\n\nTo view examples of installing some common dependencies, click the\n\"Open Examples\" button below.\n\u001b[0;31m---------------------------------------------------------------------------\u001b[0m\n"
          ],
          "errorDetails": {
            "actions": [
              {
                "action": "open_url",
                "actionText": "Open Examples",
                "url": "/notebooks/snippets/importing_libraries.ipynb"
              }
            ]
          }
        }
      ],
      "source": [
        "# No Supervisado (FSASL)\n",
        "import numpy as np\n",
        "import matplotlib.pyplot as plt\n",
        "import networkx as nx\n",
        "from sklearn.metrics.pairwise import cosine_similarity\n",
        "from sklearn.ensemble import RandomForestClassifier\n",
        "from sklearn.model_selection import cross_val_score\n",
        "\n",
        "# Inicializar diccionario para rankings\n",
        "rankings = {}\n",
        "\n",
        "# --- FSASL (No Supervisado) ---\n",
        "from skfeature.function.sparse_learning_based import fsasl\n",
        "w_fsasl = fsasl.fsasl(X_scaled, n_selected_features=20)\n",
        "fsasl_scores = np.sum(np.abs(w_fsasl), axis=1)\n",
        "fsasl_ranking = np.argsort(fsasl_scores)[::-1]\n",
        "rankings['FSASL'] = fsasl_ranking\n",
        "print(\"Top 20 features (FSASL):\", fsasl_ranking[:20])"
      ]
    },
    {
      "cell_type": "code",
      "execution_count": null,
      "metadata": {
        "id": "oHoKne08zBZB",
        "colab": {
          "base_uri": "https://localhost:8080/"
        },
        "outputId": "5b61071c-4750-4a16-b0a1-c67cb477b2ba"
      },
      "outputs": [
        {
          "output_type": "stream",
          "name": "stdout",
          "text": [
            "Top 20 features (UFSOL): [478 388 484 492 498 501 413 334 491 412 422 467 343 333 487 493 471 481\n",
            " 477 463]\n"
          ]
        }
      ],
      "source": [
        "# No Supervisado (UFSOL)\n",
        "\n",
        "import numpy as np\n",
        "from sklearn.metrics.pairwise import rbf_kernel\n",
        "from sklearn.preprocessing import normalize\n",
        "from scipy.sparse import csgraph\n",
        "\n",
        "def ufsol(X, n_features=20, sigma=1.0):\n",
        "    # construir matriz de afinidad W usando RBF\n",
        "    W = rbf_kernel(X, gamma=1 / (2 * sigma ** 2))\n",
        "    W = normalize(W, norm='l1', axis=1)\n",
        "\n",
        "    # calcular Laplaciano\n",
        "    L = csgraph.laplacian(W, normed=True)\n",
        "\n",
        "    # importancia de cada característica\n",
        "    scores = np.zeros(X.shape[1])\n",
        "    for i in range(X.shape[1]):\n",
        "        f = X[:, i]\n",
        "        scores[i] = f.T @ L @ f\n",
        "\n",
        "    # menor score = más importante\n",
        "    ranking = np.argsort(scores)\n",
        "    return ranking\n",
        "\n",
        "ufsol_ranking = ufsol(X_scaled, n_features=20)\n",
        "rankings['UFSOL'] = ufsol_ranking\n",
        "print(\"Top 20 features (UFSOL):\", ufsol_ranking[:20])\n"
      ]
    },
    {
      "cell_type": "code",
      "execution_count": null,
      "metadata": {
        "id": "nTOiyCHIuXjK",
        "colab": {
          "base_uri": "https://localhost:8080/",
          "height": 211
        },
        "outputId": "631d82ed-12f8-46b0-b65e-4888cf25692b"
      },
      "outputs": [
        {
          "output_type": "error",
          "ename": "NameError",
          "evalue": "name 'X_scaled' is not defined",
          "traceback": [
            "\u001b[0;31m---------------------------------------------------------------------------\u001b[0m",
            "\u001b[0;31mNameError\u001b[0m                                 Traceback (most recent call last)",
            "\u001b[0;32m<ipython-input-1-2365414721>\u001b[0m in \u001b[0;36m<cell line: 0>\u001b[0;34m()\u001b[0m\n\u001b[1;32m      5\u001b[0m \u001b[0;34m\u001b[0m\u001b[0m\n\u001b[1;32m      6\u001b[0m \u001b[0msvc\u001b[0m \u001b[0;34m=\u001b[0m \u001b[0mSVC\u001b[0m\u001b[0;34m(\u001b[0m\u001b[0mkernel\u001b[0m\u001b[0;34m=\u001b[0m\u001b[0;34m'linear'\u001b[0m\u001b[0;34m)\u001b[0m\u001b[0;34m\u001b[0m\u001b[0;34m\u001b[0m\u001b[0m\n\u001b[0;32m----> 7\u001b[0;31m \u001b[0mrfe\u001b[0m \u001b[0;34m=\u001b[0m \u001b[0mRFE\u001b[0m\u001b[0;34m(\u001b[0m\u001b[0msvc\u001b[0m\u001b[0;34m,\u001b[0m \u001b[0mn_features_to_select\u001b[0m\u001b[0;34m=\u001b[0m\u001b[0;36m20\u001b[0m\u001b[0;34m)\u001b[0m\u001b[0;34m.\u001b[0m\u001b[0mfit\u001b[0m\u001b[0;34m(\u001b[0m\u001b[0mX_scaled\u001b[0m\u001b[0;34m,\u001b[0m \u001b[0my\u001b[0m\u001b[0;34m)\u001b[0m\u001b[0;34m\u001b[0m\u001b[0;34m\u001b[0m\u001b[0m\n\u001b[0m\u001b[1;32m      8\u001b[0m \u001b[0mrankings\u001b[0m\u001b[0;34m[\u001b[0m\u001b[0;34m'RFE'\u001b[0m\u001b[0;34m]\u001b[0m \u001b[0;34m=\u001b[0m \u001b[0mnp\u001b[0m\u001b[0;34m.\u001b[0m\u001b[0margsort\u001b[0m\u001b[0;34m(\u001b[0m\u001b[0mrfe\u001b[0m\u001b[0;34m.\u001b[0m\u001b[0mranking_\u001b[0m\u001b[0;34m)\u001b[0m\u001b[0;34m\u001b[0m\u001b[0;34m\u001b[0m\u001b[0m\n\u001b[1;32m      9\u001b[0m \u001b[0;34m\u001b[0m\u001b[0m\n",
            "\u001b[0;31mNameError\u001b[0m: name 'X_scaled' is not defined"
          ]
        }
      ],
      "source": [
        "# Supervisado (RFE)\n",
        "\n",
        "from sklearn.feature_selection import RFE\n",
        "from sklearn.svm import SVC\n",
        "\n",
        "svc = SVC(kernel='linear')\n",
        "rfe = RFE(svc, n_features_to_select=20).fit(X_scaled, y)\n",
        "rankings['RFE'] = np.argsort(rfe.ranking_)\n",
        "\n"
      ]
    },
    {
      "cell_type": "code",
      "execution_count": null,
      "metadata": {
        "id": "-2vscJb0yIaS"
      },
      "outputs": [],
      "source": [
        "# Supervisado (SVM)\n",
        "from sklearn.svm import LinearSVC\n",
        "\n",
        "# Entrena SVM lineal con L1 o L2\n",
        "svm = LinearSVC(C=0.01, penalty=\"l1\", dual=False, max_iter=5000)\n",
        "svm.fit(X_scaled, y)\n",
        "\n",
        "# Ranking según pesos\n",
        "fsv_scores = np.abs(svm.coef_).sum(axis=0)\n",
        "fsv_ranking = np.argsort(fsv_scores)[::-1]\n",
        "\n",
        "# Agregar a rankings\n",
        "rankings['FSV'] = fsv_ranking\n"
      ]
    },
    {
      "cell_type": "markdown",
      "metadata": {
        "id": "BFMk2EpSRW37"
      },
      "source": [
        "# **3. Metodos Integrados**"
      ]
    },
    {
      "cell_type": "markdown",
      "metadata": {
        "id": "UQW82nEbRdOa"
      },
      "source": [
        "**No Supervisado**\n",
        "\n",
        "1.   UDFS\n",
        "\n",
        "**Supervisado**\n",
        "\n",
        "1.   FSV\n",
        "2.   LASSO\n",
        "3. NHTP\n",
        "\n"
      ]
    },
    {
      "cell_type": "code",
      "execution_count": null,
      "metadata": {
        "id": "plWZg6-CR0Ly"
      },
      "outputs": [],
      "source": [
        "#No Supervisado (UDFS)\n",
        "\n",
        "from skfeature.function.sparse_learning_based import UDFS\n",
        "\n",
        "udfs_weight, _, _ = UDFS.udfs(X_scaled, n_clusters=6)\n",
        "udfs_ranking = np.argsort(np.sum(np.abs(udfs_weight), axis=1))[::-1]\n"
      ]
    },
    {
      "cell_type": "code",
      "execution_count": null,
      "metadata": {
        "id": "rJJWWi6_kdiQ"
      },
      "outputs": [],
      "source": [
        "#  Supervisado (LASSO / FSV)\n",
        "\n",
        "from sklearn.linear_model import LogisticRegression\n",
        "\n",
        "lasso = LogisticRegression(penalty='l1', solver='liblinear').fit(X_scaled, y)\n",
        "lasso_ranking = np.argsort(np.abs(lasso.coef_).sum(axis=0))[::-1]\n",
        "#rankings['LASSO'] = np.argsort(np.abs(lasso.coef_).sum(axis=0))[::-1]\n",
        "\n"
      ]
    },
    {
      "cell_type": "code",
      "execution_count": null,
      "metadata": {
        "id": "SMJMuSO2zkJZ"
      },
      "outputs": [],
      "source": [
        "# Supervisador (NHTP)\n",
        "\n",
        "def nhtp(X, y, k=20, max_iter=100, tol=1e-4):\n",
        "    n, d = X.shape\n",
        "    w = np.zeros(d)\n",
        "\n",
        "    for iteration in range(max_iter):\n",
        "        # Gradiente de la función de pérdida (MSE)\n",
        "        gradient = -2 * X.T @ (y - X @ w)\n",
        "\n",
        "        # Paso de Newton (descenso)\n",
        "        w_temp = w - 0.01 * gradient\n",
        "\n",
        "        # Umbralización: mantener solo top-k entradas\n",
        "        idx = np.argsort(np.abs(w_temp))[-k:]\n",
        "        w_new = np.zeros(d)\n",
        "        w_new[idx] = w_temp[idx]\n",
        "\n",
        "        # Verificar convergencia\n",
        "        if np.linalg.norm(w_new - w) < tol:\n",
        "            break\n",
        "\n",
        "        w = w_new\n",
        "\n",
        "    # Ranking: ordenar por magnitud de coeficientes\n",
        "    ranking = np.argsort(np.abs(w))[::-1]\n",
        "    return ranking\n",
        "\n",
        "nhtp_ranking = nhtp(X_scaled, y, k=20)\n",
        "rankings['NHTP'] = nhtp_ranking\n",
        "print(\"Top 20 features (NHTP):\", nhtp_ranking[:20])\n"
      ]
    },
    {
      "cell_type": "markdown",
      "metadata": {
        "id": "TB-Jf8DWR0iS"
      },
      "source": [
        "# **Propuesta**"
      ]
    },
    {
      "cell_type": "markdown",
      "metadata": {
        "id": "3VN9Y6wtR5PX"
      },
      "source": [
        "**No supevisado**\n",
        "\n",
        "\n",
        "1.   Inf-FS (u)\n",
        "\n",
        "**Supervisado**\n",
        "1. Inf-FS (s)\n"
      ]
    },
    {
      "cell_type": "code",
      "execution_count": null,
      "metadata": {
        "id": "32kkzFG3YHrx"
      },
      "outputs": [],
      "source": [
        "from infFS import infFS  # Si ya clonaste el repo\n",
        "\n",
        "# No supervisado\n",
        "S_inf_unsup, _, _, _ = infFS(X_scaled, alpha=0.5, style='fs')\n",
        "inf_unsup_ranking = np.argsort(S_inf_unsup)[::-1]\n",
        "\n",
        "# Supervisado\n",
        "S_inf_sup, _, _, _ = infFS(X_scaled, alpha=0.5, style='supervised', Y=y)\n",
        "inf_sup_ranking = np.argsort(S_inf_sup)[::-1]\n"
      ]
    },
    {
      "cell_type": "markdown",
      "metadata": {
        "id": "EYI6lucWSMqh"
      },
      "source": [
        "# **Construccion de grafo**"
      ]
    },
    {
      "cell_type": "markdown",
      "metadata": {
        "id": "95fbKkRuSRnV"
      },
      "source": [
        "**1. Inf-FS (u)**\n",
        "\n",
        "\n",
        "**2. Inf-FS (s)**\n",
        "*   Fisher\n",
        "\n"
      ]
    },
    {
      "cell_type": "code",
      "execution_count": null,
      "metadata": {
        "id": "HsMbzTxR783W"
      },
      "outputs": [],
      "source": [
        "import numpy as np\n",
        "import networkx as nx\n",
        "import matplotlib.pyplot as plt\n",
        "from sklearn.metrics.pairwise import cosine_similarity\n",
        "from skfeature.function.statistical_based import fisher_score\n",
        "\n",
        "# Usaremos X_scaled como datos normalizados\n",
        "\n",
        "# 1. Matriz de similitud entre características (usando cosine similarity)\n",
        "# similarity_matrix[i, j] = similitud entre feature_i y feature_j\n",
        "\n",
        "similarity_matrix = cosine_similarity(X_scaled.T)  # Transpuesta para comparar features\n",
        "\n",
        "# 2. Construcción del grafo con NetworkX\n",
        "G = nx.from_numpy_array(similarity_matrix)\n",
        "\n",
        "# Opcional: filtrar aristas con peso bajo para simplificar\n",
        "threshold = 0.5\n",
        "edges_to_remove = [(u, v) for u, v, w in G.edges(data='weight') if w < threshold]\n",
        "G.remove_edges_from(edges_to_remove)\n",
        "\n",
        "# 3. Visualización del grafo\n",
        "plt.figure(figsize=(10, 8))\n",
        "pos = nx.spring_layout(G, seed=42)  # Layout\n",
        "\n",
        "# Dibuja nodos con tamaño proporcional a grado\n",
        "node_sizes = [1000 * G.degree(n) for n in G.nodes()]\n",
        "nx.draw_networkx_nodes(G, pos, node_size=node_sizes, node_color='skyblue', alpha=0.7)\n",
        "nx.draw_networkx_edges(G, pos, alpha=0.5)\n",
        "nx.draw_networkx_labels(G, pos, font_size=8)\n",
        "plt.title(\"Grafo de similitud entre características (Inf-FS no supervisado)\")\n",
        "plt.axis('off')\n",
        "plt.show()"
      ]
    },
    {
      "cell_type": "code",
      "execution_count": null,
      "metadata": {
        "id": "y9mz4NZ_8AAq",
        "colab": {
          "base_uri": "https://localhost:8080/",
          "height": 211
        },
        "outputId": "6a5ece1b-6a4a-4443-dd76-61f8cbfa2d18"
      },
      "outputs": [
        {
          "output_type": "error",
          "ename": "NameError",
          "evalue": "name 'fisher_score' is not defined",
          "traceback": [
            "\u001b[0;31m---------------------------------------------------------------------------\u001b[0m",
            "\u001b[0;31mNameError\u001b[0m                                 Traceback (most recent call last)",
            "\u001b[0;32m<ipython-input-6-14bff7504076>\u001b[0m in \u001b[0;36m<cell line: 0>\u001b[0;34m()\u001b[0m\n\u001b[1;32m      1\u001b[0m \u001b[0;31m# Calcular Fisher Score para ponderar\u001b[0m\u001b[0;34m\u001b[0m\u001b[0;34m\u001b[0m\u001b[0m\n\u001b[0;32m----> 2\u001b[0;31m \u001b[0mfisher_scores\u001b[0m \u001b[0;34m=\u001b[0m \u001b[0mfisher_score\u001b[0m\u001b[0;34m(\u001b[0m\u001b[0mX_scaled\u001b[0m\u001b[0;34m,\u001b[0m \u001b[0my\u001b[0m\u001b[0;34m)\u001b[0m\u001b[0;34m\u001b[0m\u001b[0;34m\u001b[0m\u001b[0m\n\u001b[0m\u001b[1;32m      3\u001b[0m \u001b[0mfisher_scores\u001b[0m \u001b[0;34m=\u001b[0m \u001b[0mfisher_scores\u001b[0m \u001b[0;34m/\u001b[0m \u001b[0mnp\u001b[0m\u001b[0;34m.\u001b[0m\u001b[0mmax\u001b[0m\u001b[0;34m(\u001b[0m\u001b[0mfisher_scores\u001b[0m\u001b[0;34m)\u001b[0m  \u001b[0;31m# Normalizar\u001b[0m\u001b[0;34m\u001b[0m\u001b[0;34m\u001b[0m\u001b[0m\n\u001b[1;32m      4\u001b[0m \u001b[0;34m\u001b[0m\u001b[0m\n\u001b[1;32m      5\u001b[0m \u001b[0;31m# Matriz de similitud básica\u001b[0m\u001b[0;34m\u001b[0m\u001b[0;34m\u001b[0m\u001b[0m\n",
            "\u001b[0;31mNameError\u001b[0m: name 'fisher_score' is not defined"
          ]
        }
      ],
      "source": [
        "# Calcular Fisher Score para ponderar\n",
        "fisher_scores = fisher_score(X_scaled, y)\n",
        "fisher_scores = fisher_scores / np.max(fisher_scores)  # Normalizar\n",
        "\n",
        "# Matriz de similitud básica\n",
        "similarity_matrix_sup = cosine_similarity(X_scaled.T)\n",
        "\n",
        "# Ponderar por Fisher Score (ejemplo sencillo: producto)\n",
        "for i in range(similarity_matrix_sup.shape[0]):\n",
        "    for j in range(similarity_matrix_sup.shape[1]):\n",
        "        similarity_matrix_sup[i, j] *= (fisher_scores[i] + fisher_scores[j]) / 2\n",
        "\n",
        "# Construcción y visualización grafo supervisado similar al anterior\n",
        "G_sup = nx.from_numpy_array(similarity_matrix_sup)\n",
        "edges_to_remove = [(u, v) for u, v, w in G_sup.edges(data='weight') if w < threshold]\n",
        "G_sup.remove_edges_from(edges_to_remove)\n",
        "\n",
        "plt.figure(figsize=(10, 8))\n",
        "pos = nx.spring_layout(G_sup, seed=42)\n",
        "node_sizes = [1000 * G_sup.degree(n) for n in G_sup.nodes()]\n",
        "nx.draw_networkx_nodes(G_sup, pos, node_size=node_sizes, node_color='lightgreen', alpha=0.7)\n",
        "nx.draw_networkx_edges(G_sup, pos, alpha=0.5)\n",
        "nx.draw_networkx_labels(G_sup, pos, font_size=8)\n",
        "plt.title(\"Grafo de similitud entre características (Inf-FS supervisado)\")\n",
        "plt.axis('off')\n",
        "plt.show()\n"
      ]
    },
    {
      "cell_type": "markdown",
      "metadata": {
        "id": "ID-fS4w-8GD7"
      },
      "source": [
        "**Visualización del Fisher Score**"
      ]
    },
    {
      "cell_type": "code",
      "execution_count": null,
      "metadata": {
        "id": "ZRSzEiKV8ESU",
        "colab": {
          "base_uri": "https://localhost:8080/",
          "height": 211
        },
        "outputId": "c8c6d858-e930-4b6c-8fe3-a708691e6a98"
      },
      "outputs": [
        {
          "output_type": "error",
          "ename": "NameError",
          "evalue": "name 'plt' is not defined",
          "traceback": [
            "\u001b[0;31m---------------------------------------------------------------------------\u001b[0m",
            "\u001b[0;31mNameError\u001b[0m                                 Traceback (most recent call last)",
            "\u001b[0;32m<ipython-input-7-f8614dd002e5>\u001b[0m in \u001b[0;36m<cell line: 0>\u001b[0;34m()\u001b[0m\n\u001b[0;32m----> 1\u001b[0;31m \u001b[0mplt\u001b[0m\u001b[0;34m.\u001b[0m\u001b[0mfigure\u001b[0m\u001b[0;34m(\u001b[0m\u001b[0mfigsize\u001b[0m\u001b[0;34m=\u001b[0m\u001b[0;34m(\u001b[0m\u001b[0;36m12\u001b[0m\u001b[0;34m,\u001b[0m \u001b[0;36m4\u001b[0m\u001b[0;34m)\u001b[0m\u001b[0;34m)\u001b[0m\u001b[0;34m\u001b[0m\u001b[0;34m\u001b[0m\u001b[0m\n\u001b[0m\u001b[1;32m      2\u001b[0m \u001b[0mplt\u001b[0m\u001b[0;34m.\u001b[0m\u001b[0mbar\u001b[0m\u001b[0;34m(\u001b[0m\u001b[0mrange\u001b[0m\u001b[0;34m(\u001b[0m\u001b[0mlen\u001b[0m\u001b[0;34m(\u001b[0m\u001b[0mfisher_scores\u001b[0m\u001b[0;34m)\u001b[0m\u001b[0;34m)\u001b[0m\u001b[0;34m,\u001b[0m \u001b[0mfisher_scores\u001b[0m\u001b[0;34m,\u001b[0m \u001b[0mcolor\u001b[0m\u001b[0;34m=\u001b[0m\u001b[0;34m'orange'\u001b[0m\u001b[0;34m)\u001b[0m\u001b[0;34m\u001b[0m\u001b[0;34m\u001b[0m\u001b[0m\n\u001b[1;32m      3\u001b[0m \u001b[0mplt\u001b[0m\u001b[0;34m.\u001b[0m\u001b[0mtitle\u001b[0m\u001b[0;34m(\u001b[0m\u001b[0;34m\"Fisher Score por característica\"\u001b[0m\u001b[0;34m)\u001b[0m\u001b[0;34m\u001b[0m\u001b[0;34m\u001b[0m\u001b[0m\n\u001b[1;32m      4\u001b[0m \u001b[0mplt\u001b[0m\u001b[0;34m.\u001b[0m\u001b[0mxlabel\u001b[0m\u001b[0;34m(\u001b[0m\u001b[0;34m\"Índice característica\"\u001b[0m\u001b[0;34m)\u001b[0m\u001b[0;34m\u001b[0m\u001b[0;34m\u001b[0m\u001b[0m\n\u001b[1;32m      5\u001b[0m \u001b[0mplt\u001b[0m\u001b[0;34m.\u001b[0m\u001b[0mylabel\u001b[0m\u001b[0;34m(\u001b[0m\u001b[0;34m\"Puntaje Fisher normalizado\"\u001b[0m\u001b[0;34m)\u001b[0m\u001b[0;34m\u001b[0m\u001b[0;34m\u001b[0m\u001b[0m\n",
            "\u001b[0;31mNameError\u001b[0m: name 'plt' is not defined"
          ]
        }
      ],
      "source": [
        "plt.figure(figsize=(12, 4))\n",
        "plt.bar(range(len(fisher_scores)), fisher_scores, color='orange')\n",
        "plt.title(\"Fisher Score por característica\")\n",
        "plt.xlabel(\"Índice característica\")\n",
        "plt.ylabel(\"Puntaje Fisher normalizado\")\n",
        "plt.show()\n"
      ]
    },
    {
      "cell_type": "markdown",
      "metadata": {
        "id": "N9dgbSwEwL3D"
      },
      "source": [
        "# **VISUALIZACIÓN Y EVALUACIÓN**"
      ]
    },
    {
      "cell_type": "code",
      "execution_count": null,
      "metadata": {
        "id": "IwLhoISt8c7y",
        "colab": {
          "base_uri": "https://localhost:8080/",
          "height": 384
        },
        "outputId": "b70eafa8-8938-47d0-f990-dee50a24a9fb"
      },
      "outputs": [
        {
          "output_type": "error",
          "ename": "ModuleNotFoundError",
          "evalue": "No module named 'skfeature'",
          "traceback": [
            "\u001b[0;31m---------------------------------------------------------------------------\u001b[0m",
            "\u001b[0;31mModuleNotFoundError\u001b[0m                       Traceback (most recent call last)",
            "\u001b[0;32m<ipython-input-8-a8e26dffb757>\u001b[0m in \u001b[0;36m<cell line: 0>\u001b[0;34m()\u001b[0m\n\u001b[1;32m      3\u001b[0m \u001b[0;32mimport\u001b[0m \u001b[0mnetworkx\u001b[0m \u001b[0;32mas\u001b[0m \u001b[0mnx\u001b[0m\u001b[0;34m\u001b[0m\u001b[0;34m\u001b[0m\u001b[0m\n\u001b[1;32m      4\u001b[0m \u001b[0;32mfrom\u001b[0m \u001b[0msklearn\u001b[0m\u001b[0;34m.\u001b[0m\u001b[0mmetrics\u001b[0m\u001b[0;34m.\u001b[0m\u001b[0mpairwise\u001b[0m \u001b[0;32mimport\u001b[0m \u001b[0mcosine_similarity\u001b[0m\u001b[0;34m\u001b[0m\u001b[0;34m\u001b[0m\u001b[0m\n\u001b[0;32m----> 5\u001b[0;31m \u001b[0;32mfrom\u001b[0m \u001b[0mskfeature\u001b[0m\u001b[0;34m.\u001b[0m\u001b[0mfunction\u001b[0m\u001b[0;34m.\u001b[0m\u001b[0mstatistical_based\u001b[0m \u001b[0;32mimport\u001b[0m \u001b[0mfisher_score\u001b[0m\u001b[0;34m\u001b[0m\u001b[0;34m\u001b[0m\u001b[0m\n\u001b[0m\u001b[1;32m      6\u001b[0m \u001b[0;34m\u001b[0m\u001b[0m\n\u001b[1;32m      7\u001b[0m \u001b[0;34m\u001b[0m\u001b[0m\n",
            "\u001b[0;31mModuleNotFoundError\u001b[0m: No module named 'skfeature'",
            "",
            "\u001b[0;31m---------------------------------------------------------------------------\u001b[0;32m\nNOTE: If your import is failing due to a missing package, you can\nmanually install dependencies using either !pip or !apt.\n\nTo view examples of installing some common dependencies, click the\n\"Open Examples\" button below.\n\u001b[0;31m---------------------------------------------------------------------------\u001b[0m\n"
          ],
          "errorDetails": {
            "actions": [
              {
                "action": "open_url",
                "actionText": "Open Examples",
                "url": "/notebooks/snippets/importing_libraries.ipynb"
              }
            ]
          }
        }
      ],
      "source": [
        "import numpy as np\n",
        "import matplotlib.pyplot as plt\n",
        "import networkx as nx\n",
        "from sklearn.metrics.pairwise import cosine_similarity\n",
        "from skfeature.function.statistical_based import fisher_score\n",
        "\n",
        "\n",
        "# --------------------------------------\n",
        "# 1. SIMILITUD ENTRE CARACTERÍSTICAS\n",
        "# --------------------------------------\n",
        "\n",
        "# Normalizar si no está hecho\n",
        "# from sklearn.preprocessing import MinMaxScaler\n",
        "# X_scaled = MinMaxScaler().fit_transform(X)\n",
        "\n",
        "# Similitud entre características: cosine similarity (usado en Inf-FS)\n",
        "similarity_matrix_unsup = cosine_similarity(X_scaled.T)\n",
        "\n",
        "# --------------------------------------\n",
        "# 2. GRAFO NO SUPERVISADO (Inf-FS (u))\n",
        "# --------------------------------------\n",
        "G_unsup = nx.from_numpy_array(similarity_matrix_unsup)\n",
        "\n",
        "# Filtrado de aristas con bajo peso\n",
        "threshold = 0.5\n",
        "edges_to_remove = [(u, v) for u, v, w in G_unsup.edges(data='weight') if w < threshold]\n",
        "G_unsup.remove_edges_from(edges_to_remove)\n",
        "\n",
        "plt.figure(figsize=(10, 8))\n",
        "pos = nx.spring_layout(G_unsup, seed=42)\n",
        "nx.draw_networkx_nodes(G_unsup, pos, node_size=600, node_color='skyblue', alpha=0.7)\n",
        "nx.draw_networkx_edges(G_unsup, pos, alpha=0.4)\n",
        "nx.draw_networkx_labels(G_unsup, pos, font_size=7)\n",
        "plt.title(\"🔗 Grafo de similitud entre características (Inf-FS No Supervisado)\")\n",
        "plt.axis('off')\n",
        "plt.show()\n",
        "\n",
        "# --------------------------------------\n",
        "# 3. FISHER SCORE (para supervisión)\n",
        "# --------------------------------------\n",
        "fisher_scores = fisher_score(X_scaled, y)\n",
        "fisher_scores_norm = fisher_scores / np.max(fisher_scores)\n",
        "\n",
        "# --------------------------------------\n",
        "# 4. GRAFO SUPERVISADO (Inf-FS (s) con Fisher Score)\n",
        "# --------------------------------------\n",
        "similarity_matrix_sup = cosine_similarity(X_scaled.T)\n",
        "\n",
        "# Ponderar por Fisher\n",
        "for i in range(similarity_matrix_sup.shape[0]):\n",
        "    for j in range(similarity_matrix_sup.shape[1]):\n",
        "        similarity_matrix_sup[i, j] *= (fisher_scores_norm[i] + fisher_scores_norm[j]) / 2\n",
        "\n",
        "G_sup = nx.from_numpy_array(similarity_matrix_sup)\n",
        "edges_to_remove = [(u, v) for u, v, w in G_sup.edges(data='weight') if w < threshold]\n",
        "G_sup.remove_edges_from(edges_to_remove)\n",
        "\n",
        "plt.figure(figsize=(10, 8))\n",
        "pos = nx.spring_layout(G_sup, seed=42)\n",
        "nx.draw_networkx_nodes(G_sup, pos, node_size=600, node_color='lightgreen', alpha=0.7)\n",
        "nx.draw_networkx_edges(G_sup, pos, alpha=0.4)\n",
        "nx.draw_networkx_labels(G_sup, pos, font_size=7)\n",
        "plt.title(\"🧭 Grafo de similitud (Inf-FS Supervisado con Fisher Score)\")\n",
        "plt.axis('off')\n",
        "plt.show()\n",
        "\n",
        "# --------------------------------------\n",
        "# 5. VISUALIZACIÓN DE RANKING: Fisher Score\n",
        "# --------------------------------------\n",
        "plt.figure(figsize=(12, 4))\n",
        "plt.bar(range(len(fisher_scores_norm)), fisher_scores_norm, color='orange')\n",
        "plt.title(\"🔥 Fisher Score por característica (normalizado)\")\n",
        "plt.xlabel(\"Índice de característica\")\n",
        "plt.ylabel(\"Score\")\n",
        "plt.grid(True)\n",
        "plt.show()\n",
        "\n",
        "# --------------------------------------\n",
        "# 6. INTEGRACIÓN CON RANKINGS (si ya usaste Inf-FS)\n",
        "# --------------------------------------\n",
        "try:\n",
        "    print(\"🎯 Top 20 características (Inf-FS no supervisado):\", rankings['Inf-FS(u)'][:20])\n",
        "    print(\"🎯 Top 20 características (Inf-FS supervisado):\", rankings['Inf-FS(s)'][:20])\n",
        "except Exception as e:\n",
        "    print(\"⚠️ Rankings no definidos todavía en esta sesión:\", e)\n",
        "pd.DataFrame({k: v[:20] for k, v in rankings.items()}).to_csv(\"ranking_top20_todos.csv\", index=False)"
      ]
    },
    {
      "cell_type": "code",
      "execution_count": null,
      "metadata": {
        "id": "nB4KI-P7SaC_",
        "colab": {
          "base_uri": "https://localhost:8080/",
          "height": 211
        },
        "outputId": "4776dace-04d8-42f7-a803-0f3bcf51fe89"
      },
      "outputs": [
        {
          "output_type": "error",
          "ename": "NameError",
          "evalue": "name 'rankings' is not defined",
          "traceback": [
            "\u001b[0;31m---------------------------------------------------------------------------\u001b[0m",
            "\u001b[0;31mNameError\u001b[0m                                 Traceback (most recent call last)",
            "\u001b[0;32m<ipython-input-9-fc92974db7d9>\u001b[0m in \u001b[0;36m<cell line: 0>\u001b[0;34m()\u001b[0m\n\u001b[1;32m      3\u001b[0m \u001b[0;32mfrom\u001b[0m \u001b[0msklearn\u001b[0m\u001b[0;34m.\u001b[0m\u001b[0mmodel_selection\u001b[0m \u001b[0;32mimport\u001b[0m \u001b[0mcross_val_score\u001b[0m\u001b[0;34m\u001b[0m\u001b[0;34m\u001b[0m\u001b[0m\n\u001b[1;32m      4\u001b[0m \u001b[0;34m\u001b[0m\u001b[0m\n\u001b[0;32m----> 5\u001b[0;31m \u001b[0mmethods\u001b[0m \u001b[0;34m=\u001b[0m \u001b[0mlist\u001b[0m\u001b[0;34m(\u001b[0m\u001b[0mrankings\u001b[0m\u001b[0;34m.\u001b[0m\u001b[0mkeys\u001b[0m\u001b[0;34m(\u001b[0m\u001b[0;34m)\u001b[0m\u001b[0;34m)\u001b[0m\u001b[0;34m\u001b[0m\u001b[0;34m\u001b[0m\u001b[0m\n\u001b[0m\u001b[1;32m      6\u001b[0m \u001b[0;34m\u001b[0m\u001b[0m\n\u001b[1;32m      7\u001b[0m \u001b[0;31m# Visual comparativa Top-20\u001b[0m\u001b[0;34m\u001b[0m\u001b[0;34m\u001b[0m\u001b[0m\n",
            "\u001b[0;31mNameError\u001b[0m: name 'rankings' is not defined"
          ]
        }
      ],
      "source": [
        "import matplotlib.pyplot as plt\n",
        "from sklearn.ensemble import RandomForestClassifier\n",
        "from sklearn.model_selection import cross_val_score\n",
        "\n",
        "methods = list(rankings.keys())\n",
        "\n",
        "# Visual comparativa Top-20\n",
        "plt.figure(figsize=(12, 6))\n",
        "for name in methods:\n",
        "    top20 = rankings[name][:20]\n",
        "    plt.plot(top20, label=name)\n",
        "plt.legend()\n",
        "plt.title(\"Top-20 features por método\")\n",
        "plt.show()\n",
        "\n",
        "# Evaluación por accuracy\n",
        "print(\"Accuracy usando Top-20 features:\")\n",
        "for name in methods:\n",
        "    top20 = rankings[name][:20]\n",
        "    score = cross_val_score(RandomForestClassifier(), X_scaled[:, top20], y, cv=5).mean()\n",
        "    print(f\"{name}: {score:.4f}\")\n",
        "\n"
      ]
    },
    {
      "cell_type": "markdown",
      "metadata": {
        "id": "myjPKcMhwP41"
      },
      "source": [
        "# **Evaluación comparativa**"
      ]
    },
    {
      "cell_type": "code",
      "execution_count": null,
      "metadata": {
        "id": "azdYVmEZ9axp",
        "colab": {
          "base_uri": "https://localhost:8080/",
          "height": 245
        },
        "outputId": "6cc53f3c-0738-40a3-e4fa-44a86cba1d30"
      },
      "outputs": [
        {
          "output_type": "stream",
          "name": "stdout",
          "text": [
            "🔍 Comparativa de rendimiento (Top-20 características):\n",
            "\n"
          ]
        },
        {
          "output_type": "error",
          "ename": "NameError",
          "evalue": "name 'rankings' is not defined",
          "traceback": [
            "\u001b[0;31m---------------------------------------------------------------------------\u001b[0m",
            "\u001b[0;31mNameError\u001b[0m                                 Traceback (most recent call last)",
            "\u001b[0;32m<ipython-input-10-287abe0f45e0>\u001b[0m in \u001b[0;36m<cell line: 0>\u001b[0;34m()\u001b[0m\n\u001b[1;32m      5\u001b[0m \u001b[0;34m\u001b[0m\u001b[0m\n\u001b[1;32m      6\u001b[0m \u001b[0;32mfor\u001b[0m \u001b[0mkey\u001b[0m \u001b[0;32min\u001b[0m \u001b[0;34m[\u001b[0m\u001b[0;34m'Inf-FS(u)'\u001b[0m\u001b[0;34m,\u001b[0m \u001b[0;34m'Inf-FS(s)'\u001b[0m\u001b[0;34m]\u001b[0m\u001b[0;34m:\u001b[0m\u001b[0;34m\u001b[0m\u001b[0;34m\u001b[0m\u001b[0m\n\u001b[0;32m----> 7\u001b[0;31m     \u001b[0mtop20\u001b[0m \u001b[0;34m=\u001b[0m \u001b[0mrankings\u001b[0m\u001b[0;34m[\u001b[0m\u001b[0mkey\u001b[0m\u001b[0;34m]\u001b[0m\u001b[0;34m[\u001b[0m\u001b[0;34m:\u001b[0m\u001b[0;36m20\u001b[0m\u001b[0;34m]\u001b[0m\u001b[0;34m\u001b[0m\u001b[0;34m\u001b[0m\u001b[0m\n\u001b[0m\u001b[1;32m      8\u001b[0m     \u001b[0macc\u001b[0m \u001b[0;34m=\u001b[0m \u001b[0mcross_val_score\u001b[0m\u001b[0;34m(\u001b[0m\u001b[0mRandomForestClassifier\u001b[0m\u001b[0;34m(\u001b[0m\u001b[0;34m)\u001b[0m\u001b[0;34m,\u001b[0m \u001b[0mX_scaled\u001b[0m\u001b[0;34m[\u001b[0m\u001b[0;34m:\u001b[0m\u001b[0;34m,\u001b[0m \u001b[0mtop20\u001b[0m\u001b[0;34m]\u001b[0m\u001b[0;34m,\u001b[0m \u001b[0my\u001b[0m\u001b[0;34m,\u001b[0m \u001b[0mcv\u001b[0m\u001b[0;34m=\u001b[0m\u001b[0;36m5\u001b[0m\u001b[0;34m)\u001b[0m\u001b[0;34m.\u001b[0m\u001b[0mmean\u001b[0m\u001b[0;34m(\u001b[0m\u001b[0;34m)\u001b[0m\u001b[0;34m\u001b[0m\u001b[0;34m\u001b[0m\u001b[0m\n\u001b[1;32m      9\u001b[0m     \u001b[0mprint\u001b[0m\u001b[0;34m(\u001b[0m\u001b[0;34mf\"{key} → Accuracy promedio (5-CV): {acc:.4f}\"\u001b[0m\u001b[0;34m)\u001b[0m\u001b[0;34m\u001b[0m\u001b[0;34m\u001b[0m\u001b[0m\n",
            "\u001b[0;31mNameError\u001b[0m: name 'rankings' is not defined"
          ]
        }
      ],
      "source": [
        "from sklearn.ensemble import RandomForestClassifier\n",
        "from sklearn.model_selection import cross_val_score\n",
        "\n",
        "print(\"🔍 Comparativa de rendimiento (Top-20 características):\\n\")\n",
        "\n",
        "for key in ['Inf-FS(u)', 'Inf-FS(s)']:\n",
        "    top20 = rankings[key][:20]\n",
        "    acc = cross_val_score(RandomForestClassifier(), X_scaled[:, top20], y, cv=5).mean()\n",
        "    print(f\"{key} → Accuracy promedio (5-CV): {acc:.4f}\")\n"
      ]
    },
    {
      "cell_type": "markdown",
      "metadata": {
        "id": "VnwDRrpj9fGs"
      },
      "source": [
        "# **Visualización lado a lado**"
      ]
    },
    {
      "cell_type": "code",
      "execution_count": null,
      "metadata": {
        "id": "i_MuHMZo9gkm",
        "colab": {
          "base_uri": "https://localhost:8080/",
          "height": 568
        },
        "outputId": "6499de95-a774-4f4a-ebbc-f4596ce26572"
      },
      "outputs": [
        {
          "output_type": "error",
          "ename": "NameError",
          "evalue": "name 'rankings' is not defined",
          "traceback": [
            "\u001b[0;31m---------------------------------------------------------------------------\u001b[0m",
            "\u001b[0;31mNameError\u001b[0m                                 Traceback (most recent call last)",
            "\u001b[0;32m<ipython-input-11-bf3c26890edf>\u001b[0m in \u001b[0;36m<cell line: 0>\u001b[0;34m()\u001b[0m\n\u001b[1;32m      2\u001b[0m \u001b[0;34m\u001b[0m\u001b[0m\n\u001b[1;32m      3\u001b[0m \u001b[0mplt\u001b[0m\u001b[0;34m.\u001b[0m\u001b[0msubplot\u001b[0m\u001b[0;34m(\u001b[0m\u001b[0;36m1\u001b[0m\u001b[0;34m,\u001b[0m \u001b[0;36m2\u001b[0m\u001b[0;34m,\u001b[0m \u001b[0;36m1\u001b[0m\u001b[0;34m)\u001b[0m\u001b[0;34m\u001b[0m\u001b[0;34m\u001b[0m\u001b[0m\n\u001b[0;32m----> 4\u001b[0;31m \u001b[0mplt\u001b[0m\u001b[0;34m.\u001b[0m\u001b[0mplot\u001b[0m\u001b[0;34m(\u001b[0m\u001b[0mrankings\u001b[0m\u001b[0;34m[\u001b[0m\u001b[0;34m'Inf-FS(u)'\u001b[0m\u001b[0;34m]\u001b[0m\u001b[0;34m[\u001b[0m\u001b[0;34m:\u001b[0m\u001b[0;36m20\u001b[0m\u001b[0;34m]\u001b[0m\u001b[0;34m,\u001b[0m \u001b[0mmarker\u001b[0m\u001b[0;34m=\u001b[0m\u001b[0;34m'o'\u001b[0m\u001b[0;34m,\u001b[0m \u001b[0mlabel\u001b[0m\u001b[0;34m=\u001b[0m\u001b[0;34m'Inf-FS (u)'\u001b[0m\u001b[0;34m,\u001b[0m \u001b[0mcolor\u001b[0m\u001b[0;34m=\u001b[0m\u001b[0;34m'blue'\u001b[0m\u001b[0;34m)\u001b[0m\u001b[0;34m\u001b[0m\u001b[0;34m\u001b[0m\u001b[0m\n\u001b[0m\u001b[1;32m      5\u001b[0m \u001b[0mplt\u001b[0m\u001b[0;34m.\u001b[0m\u001b[0mtitle\u001b[0m\u001b[0;34m(\u001b[0m\u001b[0;34m\"Ranking Top-20: Inf-FS No Supervisado\"\u001b[0m\u001b[0;34m)\u001b[0m\u001b[0;34m\u001b[0m\u001b[0;34m\u001b[0m\u001b[0m\n\u001b[1;32m      6\u001b[0m \u001b[0mplt\u001b[0m\u001b[0;34m.\u001b[0m\u001b[0mxlabel\u001b[0m\u001b[0;34m(\u001b[0m\u001b[0;34m\"Ranking\"\u001b[0m\u001b[0;34m)\u001b[0m\u001b[0;34m\u001b[0m\u001b[0;34m\u001b[0m\u001b[0m\n",
            "\u001b[0;31mNameError\u001b[0m: name 'rankings' is not defined"
          ]
        },
        {
          "output_type": "display_data",
          "data": {
            "text/plain": [
              "<Figure size 1200x400 with 1 Axes>"
            ],
            "image/png": "[encoded data removed]"
          },
          "metadata": {}
        }
      ],
      "source": [
        "plt.figure(figsize=(12, 4))\n",
        "\n",
        "plt.subplot(1, 2, 1)\n",
        "plt.plot(rankings['Inf-FS(u)'][:20], marker='o', label='Inf-FS (u)', color='blue')\n",
        "plt.title(\"Ranking Top-20: Inf-FS No Supervisado\")\n",
        "plt.xlabel(\"Ranking\")\n",
        "plt.ylabel(\"Índice de Feature\")\n",
        "plt.grid(True)\n",
        "plt.legend()\n",
        "\n",
        "plt.subplot(1, 2, 2)\n",
        "plt.plot(rankings['Inf-FS(s)'][:20], marker='o', label='Inf-FS (s)', color='green')\n",
        "plt.title(\"Ranking Top-20: Inf-FS Supervisado\")\n",
        "plt.xlabel(\"Ranking\")\n",
        "plt.ylabel(\"Índice de Feature\")\n",
        "plt.grid(True)\n",
        "plt.legend()\n",
        "\n",
        "plt.tight_layout()\n",
        "plt.show()"
      ]
    }
  ],
  "metadata": {
    "colab": {
      "provenance": [],
      "authorship_tag": "ABX9TyNVkEX7vSE3YMWvCX5tUGLp",
      "include_colab_link": true
    },
    "kernelspec": {
      "display_name": "Python 3",
      "name": "python3"
    },
    "language_info": {
      "name": "python"
    }
  },
  "nbformat": 4,
  "nbformat_minor": 0
}